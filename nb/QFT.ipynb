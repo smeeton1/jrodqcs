{
 "cells": [
  {
   "cell_type": "code",
   "execution_count": 1,
   "metadata": {},
   "outputs": [
    {
     "data": {
      "text/plain": [
       "Main.myqcs"
      ]
     },
     "execution_count": 1,
     "metadata": {},
     "output_type": "execute_result"
    }
   ],
   "source": [
    "include(\"../src/myqcs.jl\") "
   ]
  },
  {
   "cell_type": "code",
   "execution_count": 2,
   "metadata": {},
   "outputs": [],
   "source": [
    "FT1=myqcs.noteb.qc_network(2);"
   ]
  },
  {
   "cell_type": "code",
   "execution_count": 12,
   "metadata": {},
   "outputs": [],
   "source": [
    "FT2=myqcs.noteb.qc_network(3);"
   ]
  },
  {
   "cell_type": "code",
   "execution_count": 13,
   "metadata": {},
   "outputs": [],
   "source": [
    "myqcs.noteb.Set_init(FT1,\"-1\");\n",
    "myqcs.noteb.Set_init(FT2,\"-11\");"
   ]
  },
  {
   "cell_type": "code",
   "execution_count": 5,
   "metadata": {},
   "outputs": [],
   "source": [
    "myqcs.noteb.Add_gate(FT1,[\"H\",\"CR\",\"H\"],[2,[1,2,1],1])"
   ]
  },
  {
   "cell_type": "code",
   "execution_count": 14,
   "metadata": {},
   "outputs": [],
   "source": [
    "myqcs.noteb.Add_gate(FT2,[\"H\",\"CR\",\"CR\",\"H\",\"CR\",\"H\"],[3,[2,3,2],[1,3,1],2,[1,2,1],1])"
   ]
  },
  {
   "cell_type": "code",
   "execution_count": 7,
   "metadata": {},
   "outputs": [],
   "source": [
    "FT3=FT1; FT4=FT2;"
   ]
  },
  {
   "cell_type": "code",
   "execution_count": null,
   "metadata": {},
   "outputs": [],
   "source": [
    "myqcs.noteb.change_solver(\"Node\")"
   ]
  },
  {
   "cell_type": "code",
   "execution_count": 15,
   "metadata": {},
   "outputs": [
    {
     "name": "stdout",
     "output_type": "stream",
     "text": [
      "Node\n",
      "Node\n"
     ]
    }
   ],
   "source": [
    "myqcs.noteb.Split(FT1);\n",
    "myqcs.noteb.Split(FT2);"
   ]
  },
  {
   "cell_type": "code",
   "execution_count": 9,
   "metadata": {},
   "outputs": [
    {
     "name": "stdout",
     "output_type": "stream",
     "text": [
      "Node\n",
      "D=1\n",
      "N=Any[1, 2]\n",
      "E_L=5\n",
      "Q_L=2\n",
      "E=Any[[2, 3], [1, 4], [3, 6], [4, 5], [4, 6]]\n",
      "a=Any[Any[2], Any[1]]\n",
      "Any[[1, 1, 4], [2, 1, 3]]\n",
      "D=2\n",
      "N=Any[1, 3]\n",
      "E_L=4\n",
      "Q_L=2\n",
      "E=Any[[1, 4], [3, 6], [4, 5], [4, 6]]\n",
      "a=Any[Any[1], Any[2]]\n",
      "Any[[1, 1, 4], [2, 1, 6]]\n",
      "D=3\n",
      "N=Any[Any[4, 6]]\n",
      "E_L=1\n",
      "Q_L=1\n",
      "E=Any[[4, 5]]\n",
      "a=Any[Any[1], Any[]]\n",
      "Any[[1, 1, 5]]\n"
     ]
    }
   ],
   "source": [
    "myqcs.noteb.Contract(FT1);\n"
   ]
  },
  {
   "cell_type": "code",
   "execution_count": 16,
   "metadata": {},
   "outputs": [
    {
     "name": "stdout",
     "output_type": "stream",
     "text": [
      "Node\n",
      "D=1\n",
      "N=Any[1, 2, 3]\n",
      "E_L=12\n",
      "Q_L=3\n",
      "E=Any[[3, 4], [2, 5], [4, 10], [1, 6], [10, 11], [5, 7], [6, 8], [7, 12], [8, 9], [5, 10], [6, 11], [8, 12]]\n",
      "a=Any[Any[4], Any[2], Any[1]]\n",
      "Any[[1, 1, 6], [2, 1, 5], [3, 1, 4]]\n",
      "D=2\n",
      "N=Any[1, 2, 4]\n",
      "E_L=11\n",
      "Q_L=3\n",
      "E=Any[[2, 5], [4, 10], [1, 6], [10, 11], [5, 7], [6, 8], [7, 12], [8, 9], [5, 10], [6, 11], [8, 12]]\n",
      "a=Any[Any[3], Any[1], Any[2]]\n",
      "Any[[1, 1, 6], [2, 1, 5], [3, 1, 10]]\n",
      "D=3\n",
      "N=Any[1, Any[5, 10]]\n",
      "E_L=8\n",
      "Q_L=2\n",
      "E=Any[[1, 6], [10, 11], [5, 7], [6, 8], [7, 12], [8, 9], [6, 11], [8, 12]]\n",
      "a=Any[Any[1], Any[3], Any[2]]\n",
      "Any[[1, 1, 6], [2, 1, 7], [3, 1, 11]]\n",
      "D=4\n",
      "N=Any[Any[6, 7, 11]]\n",
      "E_L=4\n",
      "Q_L=1\n",
      "E=Any[[6, 8], [7, 12], [8, 9], [8, 12]]\n",
      "a=Any[Any[1], Any[2], Any[]]\n",
      "Any[[1, 1, 8], [2, 1, 12]]\n",
      "D=5\n",
      "N=Any[Any[8, 12, 11]]\n",
      "E_L=1\n",
      "Q_L=1\n",
      "E=Any[[8, 9]]\n",
      "a=Any[Any[1], Any[], Any[]]\n",
      "Any[[1, 1, 9]]\n"
     ]
    }
   ],
   "source": [
    "myqcs.noteb.Contract(FT2);"
   ]
  },
  {
   "cell_type": "code",
   "execution_count": null,
   "metadata": {},
   "outputs": [],
   "source": [
    "myqcs.noteb.change_solver(\"Line\")"
   ]
  },
  {
   "cell_type": "code",
   "execution_count": null,
   "metadata": {},
   "outputs": [],
   "source": [
    "myqcs.noteb.Split(FT3)\n",
    "myqcs.noteb.Split(FT4)"
   ]
  },
  {
   "cell_type": "code",
   "execution_count": null,
   "metadata": {},
   "outputs": [],
   "source": [
    "myqcs.noteb.Contract(FT3);\n",
    "myqcs.noteb.Contract(FT4);"
   ]
  },
  {
   "cell_type": "code",
   "execution_count": null,
   "metadata": {},
   "outputs": [],
   "source": [
    "FT1.out"
   ]
  },
  {
   "cell_type": "code",
   "execution_count": 17,
   "metadata": {},
   "outputs": [
    {
     "data": {
      "text/plain": [
       "1-element Array{Any,1}:\n",
       " Any[ITensor ord=1\n",
       "Dim 1: (dim=4|id=343)\n",
       "NDTensors.Dense{Complex{Float64},Array{Complex{Float64},1}}\n",
       " 4-element\n",
       " 0.5 + 0.0im\n",
       " 0.0 + 0.0im\n",
       " 0.0 + 0.0im\n",
       " 0.5 + 0.0im, ITensor ord=1\n",
       "Dim 1: (dim=4|id=759)\n",
       "NDTensors.Dense{Complex{Float64},Array{Complex{Float64},1}}\n",
       " 4-element\n",
       " 0.5 + 0.0im\n",
       " 0.0 + 0.0im\n",
       " 0.0 + 0.0im\n",
       " 0.5 + 0.0im, ITensor ord=1\n",
       "Dim 1: (dim=4|id=650)\n",
       "NDTensors.Dense{Complex{Float64},Array{Complex{Float64},1}}\n",
       " 4-element\n",
       " 0.5 + 0.0im\n",
       " 0.5 + 0.0im\n",
       " 0.5 + 0.0im\n",
       " 0.5 + 0.0im]"
      ]
     },
     "execution_count": 17,
     "metadata": {},
     "output_type": "execute_result"
    }
   ],
   "source": [
    "FT2.out"
   ]
  },
  {
   "cell_type": "code",
   "execution_count": null,
   "metadata": {},
   "outputs": [],
   "source": [
    "myqcs.component_def.solver"
   ]
  },
  {
   "cell_type": "code",
   "execution_count": null,
   "metadata": {},
   "outputs": [],
   "source": [
    "FT3.out"
   ]
  },
  {
   "cell_type": "code",
   "execution_count": null,
   "metadata": {},
   "outputs": [],
   "source": [
    "FT2.edge"
   ]
  },
  {
   "cell_type": "code",
   "execution_count": null,
   "metadata": {},
   "outputs": [],
   "source": [
    "FT1.edge"
   ]
  },
  {
   "cell_type": "code",
   "execution_count": null,
   "metadata": {},
   "outputs": [],
   "source": []
  },
  {
   "cell_type": "code",
   "execution_count": null,
   "metadata": {},
   "outputs": [],
   "source": []
  },
  {
   "cell_type": "code",
   "execution_count": null,
   "metadata": {},
   "outputs": [],
   "source": []
  }
 ],
 "metadata": {
  "kernelspec": {
   "display_name": "Julia 1.4.2",
   "language": "julia",
   "name": "julia-1.4"
  },
  "language_info": {
   "file_extension": ".jl",
   "mimetype": "application/julia",
   "name": "julia",
   "version": "1.4.2"
  }
 },
 "nbformat": 4,
 "nbformat_minor": 4
}
