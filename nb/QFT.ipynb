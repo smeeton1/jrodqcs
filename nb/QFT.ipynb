{
 "cells": [
  {
   "cell_type": "code",
   "execution_count": 198,
   "metadata": {},
   "outputs": [
    {
     "name": "stderr",
     "output_type": "stream",
     "text": [
      "WARNING: replacing module myqcs.\n"
     ]
    },
    {
     "data": {
      "text/plain": [
       "Main.myqcs"
      ]
     },
     "execution_count": 198,
     "metadata": {},
     "output_type": "execute_result"
    }
   ],
   "source": [
    "include(\"../src/myqcs.jl\") "
   ]
  },
  {
   "cell_type": "code",
   "execution_count": 199,
   "metadata": {},
   "outputs": [],
   "source": [
    "FT1=myqcs.noteb.qc_network(2);"
   ]
  },
  {
   "cell_type": "code",
   "execution_count": 200,
   "metadata": {},
   "outputs": [],
   "source": [
    "FT2=myqcs.noteb.qc_network(3);"
   ]
  },
  {
   "cell_type": "code",
   "execution_count": 201,
   "metadata": {},
   "outputs": [],
   "source": [
    "myqcs.noteb.Set_init(FT1,\"11\");\n",
    "myqcs.noteb.Set_init(FT2,\"111\");"
   ]
  },
  {
   "cell_type": "code",
   "execution_count": 202,
   "metadata": {},
   "outputs": [],
   "source": [
    "myqcs.noteb.Add_gate(FT1,[\"H\",\"CR\",\"H\"],[1,[1,2,1],2])"
   ]
  },
  {
   "cell_type": "code",
   "execution_count": 203,
   "metadata": {},
   "outputs": [],
   "source": [
    "myqcs.noteb.Add_gate(FT2,[\"H\",\"CR\",\"CR\",\"H\",\"CR\",\"H\"],[1,[1,2,1],[1,3,1],2,[2,3,2],3])"
   ]
  },
  {
   "cell_type": "code",
   "execution_count": 204,
   "metadata": {},
   "outputs": [],
   "source": [
    "FT3=FT1; FT4=FT2;"
   ]
  },
  {
   "cell_type": "code",
   "execution_count": 157,
   "metadata": {},
   "outputs": [
    {
     "data": {
      "text/plain": [
       "\"node\""
      ]
     },
     "execution_count": 157,
     "metadata": {},
     "output_type": "execute_result"
    }
   ],
   "source": [
    "myqcs.component_def.set_solver(\"node\")"
   ]
  },
  {
   "cell_type": "code",
   "execution_count": 205,
   "metadata": {},
   "outputs": [],
   "source": [
    "myqcs.noteb.Split(FT1);\n",
    "myqcs.noteb.Split(FT2);"
   ]
  },
  {
   "cell_type": "code",
   "execution_count": 206,
   "metadata": {},
   "outputs": [
    {
     "name": "stdout",
     "output_type": "stream",
     "text": [
      "D=1\n",
      "N=Any[1, 2]\n",
      "E_L=5\n",
      "Q_L=2\n",
      "E=Any[[1, 3], [3, 4], [2, 6], [6, 5], [4, 6]]\n",
      "a=Any[Any[1], Any[3]]\n",
      "Any[[1, 1, 3], [2, 1, 6]]\n",
      "D=2\n",
      "N=Any[3, 2]\n",
      "E_L=4\n",
      "Q_L=2\n",
      "E=Any[[3, 4], [2, 6], [6, 5], [4, 6]]\n",
      "a=Any[Any[1], Any[2]]\n",
      "Any[[1, 1, 4], [2, 1, 6]]\n",
      "D=3\n",
      "N=Any[Any[4, 6]]\n",
      "E_L=1\n",
      "Q_L=1\n",
      "E=Any[[6, 5]]\n",
      "a=Any[Any[], Any[1]]\n",
      "Any[[2, 1, 5]]\n"
     ]
    }
   ],
   "source": [
    "myqcs.noteb.Contract(FT1);\n"
   ]
  },
  {
   "cell_type": "code",
   "execution_count": 207,
   "metadata": {},
   "outputs": [
    {
     "name": "stdout",
     "output_type": "stream",
     "text": [
      "D=1\n",
      "N=Any[1, 2, 3]\n",
      "E_L=12\n",
      "Q_L=3\n",
      "E=Any[[1, 4], [4, 5], [2, 10], [5, 6], [3, 11], [10, 7], [7, 8], [6, 12], [12, 9], [5, 10], [6, 11], [8, 12]]\n",
      "a=Any[Any[1], Any[3], Any[5]]\n",
      "Any[[1, 1, 4], [2, 1, 10], [3, 1, 11]]\n",
      "D=2\n",
      "N=Any[4, 2, 3]\n",
      "E_L=11\n",
      "Q_L=3\n",
      "E=Any[[4, 5], [2, 10], [5, 6], [3, 11], [10, 7], [7, 8], [6, 12], [12, 9], [5, 10], [6, 11], [8, 12]]\n",
      "a=Any[Any[1], Any[2], Any[4]]\n",
      "Any[[1, 1, 5], [2, 1, 10], [3, 1, 11]]\n",
      "D=3\n",
      "N=Any[Any[5, 10], 3]\n",
      "E_L=8\n",
      "Q_L=2\n",
      "E=Any[[5, 6], [3, 11], [10, 7], [7, 8], [6, 12], [12, 9], [6, 11], [8, 12]]\n",
      "a=Any[Any[1], Any[3], Any[2]]\n",
      "Any[[1, 1, 6], [2, 1, 7], [3, 1, 11]]\n",
      "D=4\n",
      "N=Any[Any[6, 7, 11]]\n",
      "E_L=4\n",
      "Q_L=1\n",
      "E=Any[[7, 8], [6, 12], [12, 9], [8, 12]]\n",
      "a=Any[Any[2], Any[1], Any[]]\n",
      "Any[[1, 1, 12], [2, 1, 8]]\n",
      "D=5\n",
      "N=Any[Any[12, 8, 11]]\n",
      "E_L=1\n",
      "Q_L=1\n",
      "E=Any[[12, 9]]\n",
      "a=Any[Any[1], Any[], Any[]]\n",
      "Any[[1, 1, 9]]\n"
     ]
    }
   ],
   "source": [
    "myqcs.noteb.Contract(FT2);"
   ]
  },
  {
   "cell_type": "code",
   "execution_count": 208,
   "metadata": {},
   "outputs": [
    {
     "data": {
      "text/plain": [
       "\"simple\""
      ]
     },
     "execution_count": 208,
     "metadata": {},
     "output_type": "execute_result"
    }
   ],
   "source": [
    "myqcs.component_def.set_solver(\"simple\")"
   ]
  },
  {
   "cell_type": "code",
   "execution_count": 209,
   "metadata": {},
   "outputs": [],
   "source": [
    "myqcs.noteb.Split(FT3);\n",
    "myqcs.noteb.Split(FT4);"
   ]
  },
  {
   "cell_type": "code",
   "execution_count": 210,
   "metadata": {},
   "outputs": [
    {
     "name": "stdout",
     "output_type": "stream",
     "text": [
      "D=1\n",
      "N=Any[1, 2]\n",
      "E_L=5\n",
      "Q_L=2\n",
      "E=Any[[1, 3], [3, 4], [2, 6], [6, 5], [4, 6]]\n",
      "a=Any[Any[1], Any[3]]\n",
      "Any[[1, 1, 3], [2, 1, 6]]\n",
      "D=2\n",
      "N=Any[3, 2]\n",
      "E_L=4\n",
      "Q_L=2\n",
      "E=Any[[3, 4], [2, 6], [6, 5], [4, 6]]\n",
      "a=Any[Any[1], Any[2]]\n",
      "Any[[1, 1, 4], [2, 1, 6]]\n",
      "D=3\n",
      "N=Any[Any[4, 6]]\n",
      "E_L=1\n",
      "Q_L=1\n",
      "E=Any[[6, 5]]\n",
      "a=Any[Any[], Any[1]]\n",
      "Any[[2, 1, 5]]\n",
      "D=1\n",
      "N=Any[1, 2, 3]\n",
      "E_L=12\n",
      "Q_L=3\n",
      "E=Any[[1, 4], [4, 5], [2, 10], [5, 6], [3, 11], [10, 7], [7, 8], [6, 12], [12, 9], [5, 10], [6, 11], [8, 12]]\n",
      "a=Any[Any[1], Any[3], Any[5]]\n",
      "Any[[1, 1, 4], [2, 1, 10], [3, 1, 11]]\n",
      "D=2\n",
      "N=Any[4, 2, 3]\n",
      "E_L=11\n",
      "Q_L=3\n",
      "E=Any[[4, 5], [2, 10], [5, 6], [3, 11], [10, 7], [7, 8], [6, 12], [12, 9], [5, 10], [6, 11], [8, 12]]\n",
      "a=Any[Any[1], Any[2], Any[4]]\n",
      "Any[[1, 1, 5], [2, 1, 10], [3, 1, 11]]\n",
      "D=3\n",
      "N=Any[Any[5, 10], 3]\n",
      "E_L=8\n",
      "Q_L=2\n",
      "E=Any[[5, 6], [3, 11], [10, 7], [7, 8], [6, 12], [12, 9], [6, 11], [8, 12]]\n",
      "a=Any[Any[1], Any[3], Any[2]]\n",
      "Any[[1, 1, 6], [2, 1, 7], [3, 1, 11]]\n",
      "D=4\n",
      "N=Any[Any[6, 7, 11]]\n",
      "E_L=4\n",
      "Q_L=1\n",
      "E=Any[[7, 8], [6, 12], [12, 9], [8, 12]]\n",
      "a=Any[Any[2], Any[1], Any[]]\n",
      "Any[[1, 1, 12], [2, 1, 8]]\n",
      "D=5\n",
      "N=Any[Any[12, 8, 11]]\n",
      "E_L=1\n",
      "Q_L=1\n",
      "E=Any[[12, 9]]\n",
      "a=Any[Any[1], Any[], Any[]]\n",
      "Any[[1, 1, 9]]\n"
     ]
    }
   ],
   "source": [
    "myqcs.noteb.Contract(FT3);\n",
    "myqcs.noteb.Contract(FT4);"
   ]
  },
  {
   "cell_type": "code",
   "execution_count": 183,
   "metadata": {},
   "outputs": [
    {
     "data": {
      "text/plain": [
       "1-element Array{Any,1}:\n",
       " Any[ITensor ord=1\n",
       "Dim 1: (dim=4|id=689)\n",
       "NDTensors.Dense{Complex{Float64},Array{Complex{Float64},1}}\n",
       " 4-element\n",
       " 1.0 + 0.0im\n",
       " 0.0 + 0.0im\n",
       " 0.0 + 0.0im\n",
       " 0.0 + 0.0im, ITensor ord=1\n",
       "Dim 1: (dim=4|id=946)\n",
       "NDTensors.Dense{Complex{Float64},Array{Complex{Float64},1}}\n",
       " 4-element\n",
       " 1.0 + 0.0im\n",
       " 0.0 + 0.0im\n",
       " 0.0 + 0.0im\n",
       " 0.0 + 0.0im]"
      ]
     },
     "execution_count": 183,
     "metadata": {},
     "output_type": "execute_result"
    }
   ],
   "source": [
    "FT1.out"
   ]
  },
  {
   "cell_type": "code",
   "execution_count": 162,
   "metadata": {},
   "outputs": [
    {
     "data": {
      "text/plain": [
       "1-element Array{Any,1}:\n",
       " Any[ITensor ord=1\n",
       "Dim 1: (dim=4|id=8)\n",
       "NDTensors.Dense{Complex{Float64},Array{Complex{Float64},1}}\n",
       " 4-element\n",
       " 1.0 + 0.0im\n",
       " 0.0 + 0.0im\n",
       " 0.0 + 0.0im\n",
       " 1.0 + 0.0im, ITensor ord=1\n",
       "Dim 1: (dim=4|id=847)\n",
       "NDTensors.Dense{Complex{Float64},Array{Complex{Float64},1}}\n",
       " 4-element\n",
       " 1.0 + 0.0im\n",
       " 0.0 + 0.0im\n",
       " 0.0 + 0.0im\n",
       " 1.0 + 0.0im, ITensor ord=1\n",
       "Dim 1: (dim=4|id=559)\n",
       "NDTensors.Dense{Complex{Float64},Array{Complex{Float64},1}}\n",
       " 4-element\n",
       " 1.0 + 0.0im\n",
       " 1.0 + 0.0im\n",
       " 1.0 + 0.0im\n",
       " 1.0 + 0.0im]"
      ]
     },
     "execution_count": 162,
     "metadata": {},
     "output_type": "execute_result"
    }
   ],
   "source": [
    "FT2.out"
   ]
  },
  {
   "cell_type": "code",
   "execution_count": 212,
   "metadata": {},
   "outputs": [
    {
     "data": {
      "text/plain": [
       "\"simple\""
      ]
     },
     "execution_count": 212,
     "metadata": {},
     "output_type": "execute_result"
    }
   ],
   "source": [
    "myqcs.component_def.solver"
   ]
  },
  {
   "cell_type": "code",
   "execution_count": 211,
   "metadata": {},
   "outputs": [
    {
     "data": {
      "text/plain": [
       "2-element Array{Any,1}:\n",
       " Any[ITensor ord=1\n",
       "Dim 1: (dim=4|id=433)\n",
       "NDTensors.Dense{Complex{Float64},Array{Complex{Float64},1}}\n",
       " 4-element\n",
       " 1.0 + 0.0im\n",
       " 0.0 + 0.0im\n",
       " 0.0 + 0.0im\n",
       " 0.0 + 0.0im, ITensor ord=1\n",
       "Dim 1: (dim=4|id=906)\n",
       "NDTensors.Dense{Complex{Float64},Array{Complex{Float64},1}}\n",
       " 4-element\n",
       " 1.0 + 0.0im\n",
       " 0.0 + 0.0im\n",
       " 0.0 + 0.0im\n",
       " 0.0 + 0.0im]\n",
       " Any[ITensor ord=1\n",
       "Dim 1: (dim=4|id=433)\n",
       "NDTensors.Dense{Complex{Float64},Array{Complex{Float64},1}}\n",
       " 4-element\n",
       " 1.0 + 0.0im\n",
       " 0.0 + 0.0im\n",
       " 0.0 + 0.0im\n",
       " 0.0 + 0.0im, ITensor ord=1\n",
       "Dim 1: (dim=4|id=906)\n",
       "NDTensors.Dense{Complex{Float64},Array{Complex{Float64},1}}\n",
       " 4-element\n",
       " 1.0 + 0.0im\n",
       " 0.0 + 0.0im\n",
       " 0.0 + 0.0im\n",
       " 0.0 + 0.0im]"
      ]
     },
     "execution_count": 211,
     "metadata": {},
     "output_type": "execute_result"
    }
   ],
   "source": [
    "FT3.out"
   ]
  },
  {
   "cell_type": "code",
   "execution_count": null,
   "metadata": {},
   "outputs": [],
   "source": []
  }
 ],
 "metadata": {
  "kernelspec": {
   "display_name": "Julia 1.4.2",
   "language": "julia",
   "name": "julia-1.4"
  },
  "language_info": {
   "file_extension": ".jl",
   "mimetype": "application/julia",
   "name": "julia",
   "version": "1.4.2"
  }
 },
 "nbformat": 4,
 "nbformat_minor": 4
}
