{
 "cells": [
  {
   "cell_type": "markdown",
   "id": "f29c69fe",
   "metadata": {},
   "source": [
    "This file show how to load an openQASM file. "
   ]
  },
  {
   "cell_type": "code",
   "execution_count": null,
   "id": "97998807",
   "metadata": {},
   "outputs": [],
   "source": [
    "include(\"../src/jrodqcs.jl\");"
   ]
  },
  {
   "cell_type": "markdown",
   "id": "0a3464b7",
   "metadata": {},
   "source": [
    "ReadopenQasm is used to load the file."
   ]
  },
  {
   "cell_type": "code",
   "execution_count": null,
   "id": "0020a7c0",
   "metadata": {},
   "outputs": [],
   "source": [
    "T=myqcs.openQASM.ReadopenQasm(\"Test.qasm\");"
   ]
  },
  {
   "cell_type": "code",
   "execution_count": null,
   "id": "13488b91",
   "metadata": {},
   "outputs": [],
   "source": [
    "myqcs.tensor_fun.simple_solver(T);"
   ]
  },
  {
   "cell_type": "code",
   "execution_count": null,
   "id": "f2a22fa0",
   "metadata": {},
   "outputs": [],
   "source": []
  },
  {
   "cell_type": "code",
   "execution_count": null,
   "id": "e56701cc",
   "metadata": {},
   "outputs": [],
   "source": []
  }
 ],
 "metadata": {
  "kernelspec": {
   "display_name": "Julia 1.4.2",
   "language": "julia",
   "name": "julia-1.4"
  },
  "language_info": {
   "file_extension": ".jl",
   "mimetype": "application/julia",
   "name": "julia",
   "version": "1.4.2"
  }
 },
 "nbformat": 4,
 "nbformat_minor": 5
}
