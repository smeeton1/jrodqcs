{
 "cells": [
  {
   "cell_type": "code",
   "execution_count": 1,
   "metadata": {
    "scrolled": false
   },
   "outputs": [],
   "source": [
    "include(\"../src/myqcs.jl\")\n",
    "using ITensors"
   ]
  },
  {
   "cell_type": "code",
   "execution_count": 2,
   "metadata": {},
   "outputs": [
    {
     "data": {
      "text/plain": [
       "(dim=4|id=981)"
      ]
     },
     "execution_count": 2,
     "metadata": {},
     "output_type": "execute_result"
    }
   ],
   "source": [
    "i=Index(4)"
   ]
  },
  {
   "cell_type": "code",
   "execution_count": 3,
   "metadata": {},
   "outputs": [
    {
     "data": {
      "text/plain": [
       "(dim=4|id=314)"
      ]
     },
     "execution_count": 3,
     "metadata": {},
     "output_type": "execute_result"
    }
   ],
   "source": [
    "j=Index(4)"
   ]
  },
  {
   "cell_type": "code",
   "execution_count": 4,
   "metadata": {},
   "outputs": [
    {
     "name": "stdout",
     "output_type": "stream",
     "text": [
      "hello\n"
     ]
    }
   ],
   "source": [
    "myqcs.parcing.testing()"
   ]
  },
  {
   "cell_type": "code",
   "execution_count": 2,
   "metadata": {},
   "outputs": [
    {
     "data": {
      "text/plain": [
       "(qubit_N = 3, indexs = Index[(dim=4|id=108) (dim=4|id=731); (dim=4|id=314) (dim=4|id=91); (dim=4|id=586) (dim=4|id=959)], init_state = Any[], gates = Any[], measure = Any[], out = Any[])"
      ]
     },
     "execution_count": 2,
     "metadata": {},
     "output_type": "execute_result"
    }
   ],
   "source": [
    "T=myqcs.noteb.qc_network(3)"
   ]
  },
  {
   "cell_type": "code",
   "execution_count": 3,
   "metadata": {
    "scrolled": true
   },
   "outputs": [
    {
     "data": {
      "text/plain": [
       "1-element Array{Any,1}:\n",
       " ITensor ord=2\n",
       "Dim 1: (dim=4|id=108)\n",
       "Dim 2: (dim=4|id=731)\n",
       "NDTensors.Dense{Complex{Float64},Array{Complex{Float64},1}}\n",
       " 4×4\n",
       " 0.5 + 0.0im   0.5 + 0.0im   0.5 + 0.0im   0.5 + 0.0im\n",
       " 0.5 + 0.0im  -0.5 + 0.0im   0.5 + 0.0im  -0.5 + 0.0im\n",
       " 0.5 + 0.0im   0.5 + 0.0im  -0.5 + 0.0im  -0.5 + 0.0im\n",
       " 0.5 + 0.0im  -0.5 + 0.0im  -0.5 + 0.0im   0.5 + 0.0im"
      ]
     },
     "execution_count": 3,
     "metadata": {},
     "output_type": "execute_result"
    }
   ],
   "source": [
    "myqcs.noteb.add_gate(T,\"H\",1)"
   ]
  },
  {
   "cell_type": "code",
   "execution_count": 4,
   "metadata": {
    "scrolled": true
   },
   "outputs": [],
   "source": [
    " myqcs.noteb.set_init(T,\"-10\");"
   ]
  },
  {
   "cell_type": "code",
   "execution_count": 8,
   "metadata": {
    "scrolled": false
   },
   "outputs": [
    {
     "name": "stdout",
     "output_type": "stream",
     "text": [
      "0.7071067811865476 + 0.0im -0.7071067811865476 + 0.0im\n"
     ]
    }
   ],
   "source": [
    " myqcs.noteb.wave_in(T,1)"
   ]
  },
  {
   "cell_type": "code",
   "execution_count": 9,
   "metadata": {},
   "outputs": [
    {
     "data": {
      "text/plain": [
       "0.5 + 0.0im"
      ]
     },
     "execution_count": 9,
     "metadata": {},
     "output_type": "execute_result"
    }
   ],
   "source": [
    "T.init_state[1][1][1]\n"
   ]
  },
  {
   "cell_type": "code",
   "execution_count": 10,
   "metadata": {},
   "outputs": [],
   "source": [
    " myqcs.noteb.contract(T);"
   ]
  },
  {
   "cell_type": "code",
   "execution_count": 5,
   "metadata": {},
   "outputs": [],
   "source": [
    "myqcs.noteb.add_gate(T,\"CN\",[1,2]);"
   ]
  },
  {
   "cell_type": "code",
   "execution_count": 6,
   "metadata": {},
   "outputs": [
    {
     "data": {
      "text/plain": [
       "3-element Array{Any,1}:\n",
       " ITensor ord=2\n",
       "Dim 1: (dim=4|id=108)\n",
       "Dim 2: (dim=4|id=731)\n",
       "NDTensors.Dense{Complex{Float64},Array{Complex{Float64},1}}\n",
       " 4×4\n",
       " 0.5 + 0.0im   0.5 + 0.0im   0.5 + 0.0im   0.5 + 0.0im\n",
       " 0.5 + 0.0im  -0.5 + 0.0im   0.5 + 0.0im  -0.5 + 0.0im\n",
       " 0.5 + 0.0im   0.5 + 0.0im  -0.5 + 0.0im  -0.5 + 0.0im\n",
       " 0.5 + 0.0im  -0.5 + 0.0im  -0.5 + 0.0im   0.5 + 0.0im\n",
       " ITensor ord=3\n",
       "Dim 1: (dim=4|id=108)\n",
       "Dim 2: (dim=4|id=731)\n",
       "Dim 3: (dim=16|id=722|\"Link,v\")\n",
       "NDTensors.Dense{Complex{Float64},Array{Complex{Float64},1}}\n",
       " 4×4×16\n",
       "[:, :, 1] =\n",
       " 1.0 + 0.0im  0.0 + 0.0im  0.0 + 0.0im  0.0 + 0.0im\n",
       " 0.0 + 0.0im  0.0 + 0.0im  0.0 + 0.0im  0.0 + 0.0im\n",
       " 0.0 + 0.0im  0.0 + 0.0im  0.0 + 0.0im  0.0 + 0.0im\n",
       " 0.0 + 0.0im  0.0 + 0.0im  0.0 + 0.0im  0.0 + 0.0im\n",
       "\n",
       "[:, :, 2] =\n",
       " 0.0 + 0.0im  0.0 + 0.0im  0.0 + 0.0im  0.0 + 0.0im\n",
       " 1.0 + 0.0im  0.0 + 0.0im  0.0 + 0.0im  0.0 + 0.0im\n",
       " 0.0 + 0.0im  0.0 + 0.0im  0.0 + 0.0im  0.0 + 0.0im\n",
       " 0.0 + 0.0im  0.0 + 0.0im  0.0 + 0.0im  0.0 + 0.0im\n",
       "\n",
       "[:, :, 3] =\n",
       " 0.0 + 0.0im  0.0 + 0.0im  0.0 + 0.0im  0.0 + 0.0im\n",
       " 0.0 + 0.0im  0.0 + 0.0im  0.0 + 0.0im  0.0 + 0.0im\n",
       " 1.0 + 0.0im  0.0 + 0.0im  0.0 + 0.0im  0.0 + 0.0im\n",
       " 0.0 + 0.0im  0.0 + 0.0im  0.0 + 0.0im  0.0 + 0.0im\n",
       "\n",
       "...\n",
       "\n",
       "[:, :, 14] =\n",
       " 0.0 + 0.0im  0.0 + 0.0im  0.0 + 0.0im  0.0 + 0.0im\n",
       " 0.0 + 0.0im  0.0 + 0.0im  0.0 + 0.0im  1.0 + 0.0im\n",
       " 0.0 + 0.0im  0.0 + 0.0im  0.0 + 0.0im  0.0 + 0.0im\n",
       " 0.0 + 0.0im  0.0 + 0.0im  0.0 + 0.0im  0.0 + 0.0im\n",
       "\n",
       "[:, :, 15] =\n",
       " 0.0 + 0.0im  0.0 + 0.0im  0.0 + 0.0im  0.0 + 0.0im\n",
       " 0.0 + 0.0im  0.0 + 0.0im  0.0 + 0.0im  0.0 + 0.0im\n",
       " 0.0 + 0.0im  0.0 + 0.0im  0.0 + 0.0im  1.0 + 0.0im\n",
       " 0.0 + 0.0im  0.0 + 0.0im  0.0 + 0.0im  0.0 + 0.0im\n",
       "\n",
       "[:, :, 16] =\n",
       " 0.0 + 0.0im  0.0 + 0.0im  0.0 + 0.0im  0.0 + 0.0im\n",
       " 0.0 + 0.0im  0.0 + 0.0im  0.0 + 0.0im  0.0 + 0.0im\n",
       " 0.0 + 0.0im  0.0 + 0.0im  0.0 + 0.0im  0.0 + 0.0im\n",
       " 0.0 + 0.0im  0.0 + 0.0im  0.0 + 0.0im  1.0 + 0.0im\n",
       " ITensor ord=3\n",
       "Dim 1: (dim=4|id=314)\n",
       "Dim 2: (dim=4|id=91)\n",
       "Dim 3: (dim=16|id=722|\"Link,v\")\n",
       "NDTensors.Dense{Complex{Float64},Array{Complex{Float64},1}}\n",
       " 4×4×16\n",
       "[:, :, 1] =\n",
       " 1.0 - 0.0im  0.0 - 0.0im  0.0 - 0.0im  0.0 - 0.0im\n",
       " 0.0 - 0.0im  0.0 - 0.0im  0.0 - 0.0im  0.0 - 0.0im\n",
       " 0.0 - 0.0im  0.0 - 0.0im  0.0 - 0.0im  0.0 - 0.0im\n",
       " 0.0 - 0.0im  0.0 - 0.0im  0.0 - 0.0im  0.0 - 0.0im\n",
       "\n",
       "[:, :, 2] =\n",
       " -0.0 + 0.0im  -0.0 + 0.0im  -0.0 + 0.0im  -0.0 + 0.0im\n",
       " -0.0 + 0.0im   1.0 + 0.0im  -0.0 + 0.0im  -0.0 + 0.0im\n",
       " -0.0 + 0.0im  -0.0 + 0.0im  -0.0 + 0.0im  -0.0 + 0.0im\n",
       " -0.0 + 0.0im  -0.0 + 0.0im  -0.0 + 0.0im  -0.0 + 0.0im\n",
       "\n",
       "[:, :, 3] =\n",
       " -0.0 + 0.0im  -0.0 + 0.0im  -0.0 + 0.0im  -0.0 + 0.0im\n",
       " -0.0 + 0.0im  -0.0 + 0.0im  -0.0 + 0.0im  -0.0 + 0.0im\n",
       " -0.0 + 0.0im  -0.0 + 0.0im   1.0 + 0.0im  -0.0 + 0.0im\n",
       " -0.0 + 0.0im  -0.0 + 0.0im  -0.0 + 0.0im  -0.0 + 0.0im\n",
       "\n",
       "...\n",
       "\n",
       "[:, :, 14] =\n",
       " -0.0 + 0.0im  -0.0 + 0.0im  -0.0 + 0.0im  -0.0 + 0.0im\n",
       " -0.0 + 0.0im  -0.0 + 0.0im   1.0 + 0.0im  -0.0 + 0.0im\n",
       " -0.0 + 0.0im  -0.0 + 0.0im  -0.0 + 0.0im  -0.0 + 0.0im\n",
       " -0.0 + 0.0im  -0.0 + 0.0im  -0.0 + 0.0im  -0.0 + 0.0im\n",
       "\n",
       "[:, :, 15] =\n",
       " -0.0 + 0.0im  -0.0 + 0.0im  -0.0 + 0.0im  -0.0 + 0.0im\n",
       " -0.0 + 0.0im  -0.0 + 0.0im  -0.0 + 0.0im  -0.0 + 0.0im\n",
       " -0.0 + 0.0im   1.0 + 0.0im  -0.0 + 0.0im  -0.0 + 0.0im\n",
       " -0.0 + 0.0im  -0.0 + 0.0im  -0.0 + 0.0im  -0.0 + 0.0im\n",
       "\n",
       "[:, :, 16] =\n",
       " -0.0 + 0.0im  -0.0 + 0.0im  -0.0 + 0.0im  -0.0 + 0.0im\n",
       " -0.0 + 0.0im  -0.0 + 0.0im  -0.0 + 0.0im  -0.0 + 0.0im\n",
       " -0.0 + 0.0im  -0.0 + 0.0im  -0.0 + 0.0im  -0.0 + 0.0im\n",
       "  1.0 + 0.0im  -0.0 + 0.0im  -0.0 + 0.0im  -0.0 + 0.0im"
      ]
     },
     "execution_count": 6,
     "metadata": {},
     "output_type": "execute_result"
    }
   ],
   "source": [
    "myqcs.noteb.split(T)"
   ]
  },
  {
   "cell_type": "code",
   "execution_count": null,
   "metadata": {
    "scrolled": true
   },
   "outputs": [],
   "source": [
    "T.gates = myqcs.tensor_fun.Ten_split(T.gates)"
   ]
  },
  {
   "cell_type": "code",
   "execution_count": 19,
   "metadata": {},
   "outputs": [
    {
     "data": {
      "text/plain": [
       "1-element Array{Any,1}:\n",
       " ITensor ord=4\n",
       "Dim 1: (dim=4|id=765)\n",
       "Dim 2: (dim=4|id=928)\n",
       "Dim 3: (dim=4|id=951)\n",
       "Dim 4: (dim=4|id=849)\n",
       "NDTensors.Dense{Complex{Float64},Array{Complex{Float64},1}}\n",
       " 4×4×4×4\n",
       "[:, :, 1, 1] =\n",
       " 1.0 + 0.0im  0.0 + 0.0im  0.0 + 0.0im  0.0 + 0.0im\n",
       " 0.0 + 0.0im  0.0 + 0.0im  0.0 + 0.0im  0.0 + 0.0im\n",
       " 0.0 + 0.0im  0.0 + 0.0im  0.0 + 0.0im  0.0 + 0.0im\n",
       " 0.0 + 0.0im  0.0 + 0.0im  0.0 + 0.0im  0.0 + 0.0im\n",
       "\n",
       "[:, :, 2, 1] =\n",
       " 0.0 + 0.0im  0.0 + 0.0im  0.0 + 0.0im  0.0 + 0.0im\n",
       " 0.0 + 0.0im  1.0 + 0.0im  0.0 + 0.0im  0.0 + 0.0im\n",
       " 0.0 + 0.0im  0.0 + 0.0im  0.0 + 0.0im  0.0 + 0.0im\n",
       " 0.0 + 0.0im  0.0 + 0.0im  0.0 + 0.0im  0.0 + 0.0im\n",
       "\n",
       "[:, :, 3, 1] =\n",
       " 0.0 + 0.0im  0.0 + 0.0im  0.0 + 0.0im  0.0 + 0.0im\n",
       " 0.0 + 0.0im  0.0 + 0.0im  0.0 + 0.0im  0.0 + 0.0im\n",
       " 0.0 + 0.0im  0.0 + 0.0im  1.0 + 0.0im  0.0 + 0.0im\n",
       " 0.0 + 0.0im  0.0 + 0.0im  0.0 + 0.0im  0.0 + 0.0im\n",
       "\n",
       "[:, :, 4, 1] =\n",
       " 0.0 + 0.0im  0.0 + 0.0im  0.0 + 0.0im  0.0 + 0.0im\n",
       " 0.0 + 0.0im  0.0 + 0.0im  0.0 + 0.0im  0.0 + 0.0im\n",
       " 0.0 + 0.0im  0.0 + 0.0im  0.0 + 0.0im  0.0 + 0.0im\n",
       " 0.0 + 0.0im  0.0 + 0.0im  0.0 + 0.0im  1.0 + 0.0im\n",
       "\n",
       "[:, :, 1, 2] =\n",
       " 0.0 + 0.0im  1.0 + 0.0im  0.0 + 0.0im  0.0 + 0.0im\n",
       " 0.0 + 0.0im  0.0 + 0.0im  0.0 + 0.0im  0.0 + 0.0im\n",
       " 0.0 + 0.0im  0.0 + 0.0im  0.0 + 0.0im  0.0 + 0.0im\n",
       " 0.0 + 0.0im  0.0 + 0.0im  0.0 + 0.0im  0.0 + 0.0im\n",
       "\n",
       "[:, :, 2, 2] =\n",
       " 0.0 + 0.0im  0.0 + 0.0im  0.0 + 0.0im  0.0 + 0.0im\n",
       " 1.0 + 0.0im  0.0 + 0.0im  0.0 + 0.0im  0.0 + 0.0im\n",
       " 0.0 + 0.0im  0.0 + 0.0im  0.0 + 0.0im  0.0 + 0.0im\n",
       " 0.0 + 0.0im  0.0 + 0.0im  0.0 + 0.0im  0.0 + 0.0im\n",
       "\n",
       "[:, :, 3, 2] =\n",
       " 0.0 + 0.0im  0.0 + 0.0im  0.0 + 0.0im  0.0 + 0.0im\n",
       " 0.0 + 0.0im  0.0 + 0.0im  0.0 + 0.0im  0.0 + 0.0im\n",
       " 0.0 + 0.0im  0.0 + 0.0im  0.0 + 0.0im  1.0 + 0.0im\n",
       " 0.0 + 0.0im  0.0 + 0.0im  0.0 + 0.0im  0.0 + 0.0im\n",
       "\n",
       "[:, :, 4, 2] =\n",
       " 0.0 + 0.0im  0.0 + 0.0im  0.0 + 0.0im  0.0 + 0.0im\n",
       " 0.0 + 0.0im  0.0 + 0.0im  0.0 + 0.0im  0.0 + 0.0im\n",
       " 0.0 + 0.0im  0.0 + 0.0im  0.0 + 0.0im  0.0 + 0.0im\n",
       " 0.0 + 0.0im  0.0 + 0.0im  1.0 + 0.0im  0.0 + 0.0im\n",
       "\n",
       "[:, :, 1, 3] =\n",
       " 0.0 + 0.0im  0.0 + 0.0im  1.0 + 0.0im  0.0 + 0.0im\n",
       " 0.0 + 0.0im  0.0 + 0.0im  0.0 + 0.0im  0.0 + 0.0im\n",
       " 0.0 + 0.0im  0.0 + 0.0im  0.0 + 0.0im  0.0 + 0.0im\n",
       " 0.0 + 0.0im  0.0 + 0.0im  0.0 + 0.0im  0.0 + 0.0im\n",
       "\n",
       "[:, :, 2, 3] =\n",
       " 0.0 + 0.0im  0.0 + 0.0im  0.0 + 0.0im  0.0 + 0.0im\n",
       " 0.0 + 0.0im  0.0 + 0.0im  0.0 + 0.0im  1.0 + 0.0im\n",
       " 0.0 + 0.0im  0.0 + 0.0im  0.0 + 0.0im  0.0 + 0.0im\n",
       " 0.0 + 0.0im  0.0 + 0.0im  0.0 + 0.0im  0.0 + 0.0im\n",
       "\n",
       "[:, :, 3, 3] =\n",
       " 0.0 + 0.0im  0.0 + 0.0im  0.0 + 0.0im  0.0 + 0.0im\n",
       " 0.0 + 0.0im  0.0 + 0.0im  0.0 + 0.0im  0.0 + 0.0im\n",
       " 1.0 + 0.0im  0.0 + 0.0im  0.0 + 0.0im  0.0 + 0.0im\n",
       " 0.0 + 0.0im  0.0 + 0.0im  0.0 + 0.0im  0.0 + 0.0im\n",
       "\n",
       "[:, :, 4, 3] =\n",
       " 0.0 + 0.0im  0.0 + 0.0im  0.0 + 0.0im  0.0 + 0.0im\n",
       " 0.0 + 0.0im  0.0 + 0.0im  0.0 + 0.0im  0.0 + 0.0im\n",
       " 0.0 + 0.0im  0.0 + 0.0im  0.0 + 0.0im  0.0 + 0.0im\n",
       " 0.0 + 0.0im  1.0 + 0.0im  0.0 + 0.0im  0.0 + 0.0im\n",
       "\n",
       "[:, :, 1, 4] =\n",
       " 0.0 + 0.0im  0.0 + 0.0im  0.0 + 0.0im  1.0 + 0.0im\n",
       " 0.0 + 0.0im  0.0 + 0.0im  0.0 + 0.0im  0.0 + 0.0im\n",
       " 0.0 + 0.0im  0.0 + 0.0im  0.0 + 0.0im  0.0 + 0.0im\n",
       " 0.0 + 0.0im  0.0 + 0.0im  0.0 + 0.0im  0.0 + 0.0im\n",
       "\n",
       "[:, :, 2, 4] =\n",
       " 0.0 + 0.0im  0.0 + 0.0im  0.0 + 0.0im  0.0 + 0.0im\n",
       " 0.0 + 0.0im  0.0 + 0.0im  1.0 + 0.0im  0.0 + 0.0im\n",
       " 0.0 + 0.0im  0.0 + 0.0im  0.0 + 0.0im  0.0 + 0.0im\n",
       " 0.0 + 0.0im  0.0 + 0.0im  0.0 + 0.0im  0.0 + 0.0im\n",
       "\n",
       "[:, :, 3, 4] =\n",
       " 0.0 + 0.0im  0.0 + 0.0im  0.0 + 0.0im  0.0 + 0.0im\n",
       " 0.0 + 0.0im  0.0 + 0.0im  0.0 + 0.0im  0.0 + 0.0im\n",
       " 0.0 + 0.0im  1.0 + 0.0im  0.0 + 0.0im  0.0 + 0.0im\n",
       " 0.0 + 0.0im  0.0 + 0.0im  0.0 + 0.0im  0.0 + 0.0im\n",
       "\n",
       "[:, :, 4, 4] =\n",
       " 0.0 + 0.0im  0.0 + 0.0im  0.0 + 0.0im  0.0 + 0.0im\n",
       " 0.0 + 0.0im  0.0 + 0.0im  0.0 + 0.0im  0.0 + 0.0im\n",
       " 0.0 + 0.0im  0.0 + 0.0im  0.0 + 0.0im  0.0 + 0.0im\n",
       " 1.0 + 0.0im  0.0 + 0.0im  0.0 + 0.0im  0.0 + 0.0im"
      ]
     },
     "execution_count": 19,
     "metadata": {},
     "output_type": "execute_result"
    }
   ],
   "source": [
    "deleteat!(T.gates, 1)"
   ]
  },
  {
   "cell_type": "code",
   "execution_count": 12,
   "metadata": {},
   "outputs": [
    {
     "data": {
      "text/plain": [
       "ITensor ord=2 (dim=4|id=675) (dim=4|id=158)\n",
       "NDTensors.Dense{Complex{Float64},Array{Complex{Float64},1}}"
      ]
     },
     "execution_count": 12,
     "metadata": {},
     "output_type": "execute_result"
    }
   ],
   "source": [
    "h=myqcs.parcing.gate_set(\"X\",1,T.indexs)"
   ]
  },
  {
   "cell_type": "code",
   "execution_count": 24,
   "metadata": {
    "scrolled": true
   },
   "outputs": [
    {
     "ename": "MethodError",
     "evalue": "MethodError: no method matching length(::ITensor{2})\nClosest candidates are:\n  length(!Matched::Core.SimpleVector) at essentials.jl:596\n  length(!Matched::Base.MethodList) at reflection.jl:852\n  length(!Matched::Core.MethodTable) at reflection.jl:938\n  ...",
     "output_type": "error",
     "traceback": [
      "MethodError: no method matching length(::ITensor{2})\nClosest candidates are:\n  length(!Matched::Core.SimpleVector) at essentials.jl:596\n  length(!Matched::Base.MethodList) at reflection.jl:852\n  length(!Matched::Core.MethodTable) at reflection.jl:938\n  ...",
      "",
      "Stacktrace:",
      " [1] splice!(::Array{Any,1}, ::Int64, ::ITensor{2}) at ./array.jl:1376",
      " [2] top-level scope at In[24]:1"
     ]
    }
   ],
   "source": [
    "splice!(T.gates,1,h)"
   ]
  },
  {
   "cell_type": "code",
   "execution_count": 7,
   "metadata": {},
   "outputs": [
    {
     "data": {
      "text/plain": [
       "3"
      ]
     },
     "execution_count": 7,
     "metadata": {},
     "output_type": "execute_result"
    }
   ],
   "source": [
    "length(T.gates)"
   ]
  },
  {
   "cell_type": "code",
   "execution_count": 34,
   "metadata": {},
   "outputs": [
    {
     "data": {
      "text/plain": [
       "2-element Array{Any,1}:\n",
       " ITensor ord=4\n",
       "Dim 1: (dim=4|id=881)\n",
       "Dim 2: (dim=4|id=729)\n",
       "Dim 3: (dim=4|id=590)\n",
       "Dim 4: (dim=4|id=467)\n",
       "NDTensors.Dense{Complex{Float64},Array{Complex{Float64},1}}\n",
       " 4×4×4×4\n",
       "[:, :, 1, 1] =\n",
       " 1.0 + 0.0im  0.0 + 0.0im  0.0 + 0.0im  0.0 + 0.0im\n",
       " 0.0 + 0.0im  0.0 + 0.0im  0.0 + 0.0im  0.0 + 0.0im\n",
       " 0.0 + 0.0im  0.0 + 0.0im  0.0 + 0.0im  0.0 + 0.0im\n",
       " 0.0 + 0.0im  0.0 + 0.0im  0.0 + 0.0im  0.0 + 0.0im\n",
       "\n",
       "[:, :, 2, 1] =\n",
       " 0.0 + 0.0im  0.0 + 0.0im  0.0 + 0.0im  0.0 + 0.0im\n",
       " 0.0 + 0.0im  1.0 + 0.0im  0.0 + 0.0im  0.0 + 0.0im\n",
       " 0.0 + 0.0im  0.0 + 0.0im  0.0 + 0.0im  0.0 + 0.0im\n",
       " 0.0 + 0.0im  0.0 + 0.0im  0.0 + 0.0im  0.0 + 0.0im\n",
       "\n",
       "[:, :, 3, 1] =\n",
       " 0.0 + 0.0im  0.0 + 0.0im  0.0 + 0.0im  0.0 + 0.0im\n",
       " 0.0 + 0.0im  0.0 + 0.0im  0.0 + 0.0im  0.0 + 0.0im\n",
       " 0.0 + 0.0im  0.0 + 0.0im  1.0 + 0.0im  0.0 + 0.0im\n",
       " 0.0 + 0.0im  0.0 + 0.0im  0.0 + 0.0im  0.0 + 0.0im\n",
       "\n",
       "[:, :, 4, 1] =\n",
       " 0.0 + 0.0im  0.0 + 0.0im  0.0 + 0.0im  0.0 + 0.0im\n",
       " 0.0 + 0.0im  0.0 + 0.0im  0.0 + 0.0im  0.0 + 0.0im\n",
       " 0.0 + 0.0im  0.0 + 0.0im  0.0 + 0.0im  0.0 + 0.0im\n",
       " 0.0 + 0.0im  0.0 + 0.0im  0.0 + 0.0im  1.0 + 0.0im\n",
       "\n",
       "[:, :, 1, 2] =\n",
       " 0.0 + 0.0im  1.0 + 0.0im  0.0 + 0.0im  0.0 + 0.0im\n",
       " 0.0 + 0.0im  0.0 + 0.0im  0.0 + 0.0im  0.0 + 0.0im\n",
       " 0.0 + 0.0im  0.0 + 0.0im  0.0 + 0.0im  0.0 + 0.0im\n",
       " 0.0 + 0.0im  0.0 + 0.0im  0.0 + 0.0im  0.0 + 0.0im\n",
       "\n",
       "[:, :, 2, 2] =\n",
       " 0.0 + 0.0im  0.0 + 0.0im  0.0 + 0.0im  0.0 + 0.0im\n",
       " 1.0 + 0.0im  0.0 + 0.0im  0.0 + 0.0im  0.0 + 0.0im\n",
       " 0.0 + 0.0im  0.0 + 0.0im  0.0 + 0.0im  0.0 + 0.0im\n",
       " 0.0 + 0.0im  0.0 + 0.0im  0.0 + 0.0im  0.0 + 0.0im\n",
       "\n",
       "[:, :, 3, 2] =\n",
       " 0.0 + 0.0im  0.0 + 0.0im  0.0 + 0.0im  0.0 + 0.0im\n",
       " 0.0 + 0.0im  0.0 + 0.0im  0.0 + 0.0im  0.0 + 0.0im\n",
       " 0.0 + 0.0im  0.0 + 0.0im  0.0 + 0.0im  1.0 + 0.0im\n",
       " 0.0 + 0.0im  0.0 + 0.0im  0.0 + 0.0im  0.0 + 0.0im\n",
       "\n",
       "[:, :, 4, 2] =\n",
       " 0.0 + 0.0im  0.0 + 0.0im  0.0 + 0.0im  0.0 + 0.0im\n",
       " 0.0 + 0.0im  0.0 + 0.0im  0.0 + 0.0im  0.0 + 0.0im\n",
       " 0.0 + 0.0im  0.0 + 0.0im  0.0 + 0.0im  0.0 + 0.0im\n",
       " 0.0 + 0.0im  0.0 + 0.0im  1.0 + 0.0im  0.0 + 0.0im\n",
       "\n",
       "[:, :, 1, 3] =\n",
       " 0.0 + 0.0im  0.0 + 0.0im  1.0 + 0.0im  0.0 + 0.0im\n",
       " 0.0 + 0.0im  0.0 + 0.0im  0.0 + 0.0im  0.0 + 0.0im\n",
       " 0.0 + 0.0im  0.0 + 0.0im  0.0 + 0.0im  0.0 + 0.0im\n",
       " 0.0 + 0.0im  0.0 + 0.0im  0.0 + 0.0im  0.0 + 0.0im\n",
       "\n",
       "[:, :, 2, 3] =\n",
       " 0.0 + 0.0im  0.0 + 0.0im  0.0 + 0.0im  0.0 + 0.0im\n",
       " 0.0 + 0.0im  0.0 + 0.0im  0.0 + 0.0im  1.0 + 0.0im\n",
       " 0.0 + 0.0im  0.0 + 0.0im  0.0 + 0.0im  0.0 + 0.0im\n",
       " 0.0 + 0.0im  0.0 + 0.0im  0.0 + 0.0im  0.0 + 0.0im\n",
       "\n",
       "[:, :, 3, 3] =\n",
       " 0.0 + 0.0im  0.0 + 0.0im  0.0 + 0.0im  0.0 + 0.0im\n",
       " 0.0 + 0.0im  0.0 + 0.0im  0.0 + 0.0im  0.0 + 0.0im\n",
       " 1.0 + 0.0im  0.0 + 0.0im  0.0 + 0.0im  0.0 + 0.0im\n",
       " 0.0 + 0.0im  0.0 + 0.0im  0.0 + 0.0im  0.0 + 0.0im\n",
       "\n",
       "[:, :, 4, 3] =\n",
       " 0.0 + 0.0im  0.0 + 0.0im  0.0 + 0.0im  0.0 + 0.0im\n",
       " 0.0 + 0.0im  0.0 + 0.0im  0.0 + 0.0im  0.0 + 0.0im\n",
       " 0.0 + 0.0im  0.0 + 0.0im  0.0 + 0.0im  0.0 + 0.0im\n",
       " 0.0 + 0.0im  1.0 + 0.0im  0.0 + 0.0im  0.0 + 0.0im\n",
       "\n",
       "[:, :, 1, 4] =\n",
       " 0.0 + 0.0im  0.0 + 0.0im  0.0 + 0.0im  1.0 + 0.0im\n",
       " 0.0 + 0.0im  0.0 + 0.0im  0.0 + 0.0im  0.0 + 0.0im\n",
       " 0.0 + 0.0im  0.0 + 0.0im  0.0 + 0.0im  0.0 + 0.0im\n",
       " 0.0 + 0.0im  0.0 + 0.0im  0.0 + 0.0im  0.0 + 0.0im\n",
       "\n",
       "[:, :, 2, 4] =\n",
       " 0.0 + 0.0im  0.0 + 0.0im  0.0 + 0.0im  0.0 + 0.0im\n",
       " 0.0 + 0.0im  0.0 + 0.0im  1.0 + 0.0im  0.0 + 0.0im\n",
       " 0.0 + 0.0im  0.0 + 0.0im  0.0 + 0.0im  0.0 + 0.0im\n",
       " 0.0 + 0.0im  0.0 + 0.0im  0.0 + 0.0im  0.0 + 0.0im\n",
       "\n",
       "[:, :, 3, 4] =\n",
       " 0.0 + 0.0im  0.0 + 0.0im  0.0 + 0.0im  0.0 + 0.0im\n",
       " 0.0 + 0.0im  0.0 + 0.0im  0.0 + 0.0im  0.0 + 0.0im\n",
       " 0.0 + 0.0im  1.0 + 0.0im  0.0 + 0.0im  0.0 + 0.0im\n",
       " 0.0 + 0.0im  0.0 + 0.0im  0.0 + 0.0im  0.0 + 0.0im\n",
       "\n",
       "[:, :, 4, 4] =\n",
       " 0.0 + 0.0im  0.0 + 0.0im  0.0 + 0.0im  0.0 + 0.0im\n",
       " 0.0 + 0.0im  0.0 + 0.0im  0.0 + 0.0im  0.0 + 0.0im\n",
       " 0.0 + 0.0im  0.0 + 0.0im  0.0 + 0.0im  0.0 + 0.0im\n",
       " 1.0 + 0.0im  0.0 + 0.0im  0.0 + 0.0im  0.0 + 0.0im\n",
       " ITensor ord=2\n",
       "Dim 1: (dim=4|id=881)\n",
       "Dim 2: (dim=4|id=729)\n",
       "NDTensors.Dense{Complex{Float64},Array{Complex{Float64},1}}\n",
       " 4×4\n",
       " 0.0 + 0.0im  0.0 + 0.0im  0.0 + 0.0im  1.0 + 0.0im\n",
       " 0.0 + 0.0im  0.0 + 0.0im  1.0 + 0.0im  0.0 + 0.0im\n",
       " 0.0 + 0.0im  1.0 + 0.0im  0.0 + 0.0im  0.0 + 0.0im\n",
       " 1.0 + 0.0im  0.0 + 0.0im  0.0 + 0.0im  0.0 + 0.0im"
      ]
     },
     "execution_count": 34,
     "metadata": {},
     "output_type": "execute_result"
    }
   ],
   "source": [
    "push!(T.gates,h)"
   ]
  },
  {
   "cell_type": "code",
   "execution_count": null,
   "metadata": {},
   "outputs": [],
   "source": []
  }
 ],
 "metadata": {
  "kernelspec": {
   "display_name": "Julia 1.4.2",
   "language": "julia",
   "name": "julia-1.4"
  },
  "language_info": {
   "file_extension": ".jl",
   "mimetype": "application/julia",
   "name": "julia",
   "version": "1.4.2"
  }
 },
 "nbformat": 4,
 "nbformat_minor": 4
}
