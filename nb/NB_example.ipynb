{
 "cells": [
  {
   "cell_type": "code",
   "execution_count": 8,
   "metadata": {
    "scrolled": false
   },
   "outputs": [
    {
     "name": "stderr",
     "output_type": "stream",
     "text": [
      "WARNING: replacing module myqcs.\n"
     ]
    }
   ],
   "source": [
    "include(\"../src/myqcs.jl\")\n",
    "using ITensors"
   ]
  },
  {
   "cell_type": "code",
   "execution_count": 4,
   "metadata": {},
   "outputs": [
    {
     "data": {
      "text/plain": [
       "(qubit_N = 4, indexs = Index[(dim=4|id=822) (dim=4|id=270); (dim=4|id=973) (dim=4|id=315); (dim=4|id=177) (dim=4|id=283); (dim=4|id=902) (dim=4|id=488)], init_state = Any[], gates = Any[], measure = Any[], out = Any[])"
      ]
     },
     "execution_count": 4,
     "metadata": {},
     "output_type": "execute_result"
    }
   ],
   "source": [
    "T=myqcs.noteb.qc_network(4)"
   ]
  },
  {
   "cell_type": "code",
   "execution_count": 5,
   "metadata": {
    "scrolled": true
   },
   "outputs": [
    {
     "data": {
      "text/plain": [
       "1-element Array{Any,1}:\n",
       " ITensor[ITensor ord=1\n",
       "Dim 1: (dim=4|id=270)\n",
       "NDTensors.Dense{Complex{Float64},Array{Complex{Float64},1}}\n",
       " 4-element\n",
       "  0.5 + 0.0im\n",
       " -0.5 + 0.0im\n",
       " -0.5 + 0.0im\n",
       "  0.5 + 0.0im, ITensor ord=1\n",
       "Dim 1: (dim=4|id=315)\n",
       "NDTensors.Dense{Complex{Float64},Array{Complex{Float64},1}}\n",
       " 4-element\n",
       " 1.0 + 0.0im\n",
       " 0.0 + 0.0im\n",
       " 0.0 + 0.0im\n",
       " 0.0 + 0.0im, ITensor ord=1\n",
       "Dim 1: (dim=4|id=283)\n",
       "NDTensors.Dense{Complex{Float64},Array{Complex{Float64},1}}\n",
       " 4-element\n",
       " 0.0 + 0.0im\n",
       " 0.0 + 0.0im\n",
       " 0.0 + 0.0im\n",
       " 1.0 + 0.0im, ITensor ord=1\n",
       "Dim 1: (dim=4|id=488)\n",
       "NDTensors.Dense{Complex{Float64},Array{Complex{Float64},1}}\n",
       " 4-element\n",
       " 0.5 + 0.0im\n",
       " 0.5 + 0.0im\n",
       " 0.5 + 0.0im\n",
       " 0.5 + 0.0im]"
      ]
     },
     "execution_count": 5,
     "metadata": {},
     "output_type": "execute_result"
    }
   ],
   "source": [
    " myqcs.noteb.set_init(T,\"-10+\")"
   ]
  },
  {
   "cell_type": "code",
   "execution_count": 10,
   "metadata": {
    "scrolled": false
   },
   "outputs": [
    {
     "name": "stdout",
     "output_type": "stream",
     "text": [
      "2\n",
      "0.7071067811865476 + 0.0im -0.7071067811865476 + 0.0im\n",
      "1\n",
      "1.0 + 0.0im 0.0 + 0.0im\n",
      "2\n"
     ]
    }
   ],
   "source": [
    " myqcs.noteb.wave_in(T,[1,2])"
   ]
  },
  {
   "cell_type": "code",
   "execution_count": 20,
   "metadata": {
    "scrolled": true
   },
   "outputs": [
    {
     "data": {
      "text/plain": [
       "1-element Array{Any,1}:\n",
       " ITensor ord=2\n",
       "Dim 1: (dim=4|id=773)\n",
       "Dim 2: (dim=4|id=435)\n",
       "NDTensors.Dense{Complex{Float64},Array{Complex{Float64},1}}\n",
       " 4×4\n",
       " 0.5 + 0.0im   0.5 + 0.0im   0.5 + 0.0im   0.5 + 0.0im\n",
       " 0.5 + 0.0im  -0.5 + 0.0im   0.5 + 0.0im  -0.5 + 0.0im\n",
       " 0.5 + 0.0im   0.5 + 0.0im  -0.5 + 0.0im  -0.5 + 0.0im\n",
       " 0.5 + 0.0im  -0.5 + 0.0im  -0.5 + 0.0im   0.5 + 0.0im"
      ]
     },
     "execution_count": 20,
     "metadata": {},
     "output_type": "execute_result"
    }
   ],
   "source": [
    "myqcs.noteb.add_gate(T,\"H\",1)"
   ]
  },
  {
   "cell_type": "code",
   "execution_count": 21,
   "metadata": {},
   "outputs": [],
   "source": [
    "myqcs.noteb.add_gate(T,[\"CN\",\"X\",\"H\"],[[1,2],[2],[3]])"
   ]
  },
  {
   "cell_type": "code",
   "execution_count": 22,
   "metadata": {},
   "outputs": [],
   "source": [
    "myqcs.noteb.split(T);"
   ]
  },
  {
   "cell_type": "code",
   "execution_count": 23,
   "metadata": {},
   "outputs": [],
   "source": [
    " myqcs.noteb.contract(T);"
   ]
  },
  {
   "cell_type": "code",
   "execution_count": 24,
   "metadata": {},
   "outputs": [
    {
     "name": "stdout",
     "output_type": "stream",
     "text": [
      "0.0 + 0.0im 1.0 + 0.0im\n"
     ]
    }
   ],
   "source": [
    "myqcs.noteb.wave_out(T,1)"
   ]
  },
  {
   "cell_type": "code",
   "execution_count": null,
   "metadata": {},
   "outputs": [],
   "source": []
  }
 ],
 "metadata": {
  "kernelspec": {
   "display_name": "Julia 1.4.2",
   "language": "julia",
   "name": "julia-1.4"
  },
  "language_info": {
   "file_extension": ".jl",
   "mimetype": "application/julia",
   "name": "julia",
   "version": "1.4.2"
  }
 },
 "nbformat": 4,
 "nbformat_minor": 4
}
