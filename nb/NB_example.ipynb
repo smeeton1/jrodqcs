{
 "cells": [
  {
   "cell_type": "code",
   "execution_count": 282,
   "metadata": {
    "scrolled": false
   },
   "outputs": [
    {
     "name": "stderr",
     "output_type": "stream",
     "text": [
      "WARNING: replacing module myqcs.\n"
     ]
    }
   ],
   "source": [
    "include(\"../src/myqcs.jl\")\n",
    "using ITensors"
   ]
  },
  {
   "cell_type": "code",
   "execution_count": 283,
   "metadata": {},
   "outputs": [
    {
     "data": {
      "text/plain": [
       "(qubit_N = 4, indexs = Index[(dim=4|id=602) (dim=4|id=508); (dim=4|id=859) (dim=4|id=805); (dim=4|id=911) (dim=4|id=916); (dim=4|id=310) (dim=4|id=810)], init_state = Any[], gates = Any[], measure = Any[], out = Any[], edge = Any[], record = [[\"4\"]])"
      ]
     },
     "execution_count": 283,
     "metadata": {},
     "output_type": "execute_result"
    }
   ],
   "source": [
    "T=myqcs.noteb.qc_network(4)"
   ]
  },
  {
   "cell_type": "code",
   "execution_count": 284,
   "metadata": {
    "scrolled": true
   },
   "outputs": [],
   "source": [
    " myqcs.noteb.Set_init(T,\"-10+\");"
   ]
  },
  {
   "cell_type": "code",
   "execution_count": 285,
   "metadata": {
    "scrolled": false
   },
   "outputs": [
    {
     "name": "stdout",
     "output_type": "stream",
     "text": [
      "0.7071067811865476 + 0.0im -0.7071067811865476 + 0.0im\n",
      "1.0 + 0.0im 0.0 + 0.0im\n",
      "0.0 + 0.0im 1.0 + 0.0im\n",
      "0.7071067811865476 + 0.0im 0.7071067811865476 + 0.0im\n"
     ]
    }
   ],
   "source": [
    " myqcs.noteb.Wave_in(T,[1,2,3,4])"
   ]
  },
  {
   "cell_type": "code",
   "execution_count": 286,
   "metadata": {
    "scrolled": true
   },
   "outputs": [
    {
     "data": {
      "text/plain": [
       "1-element Array{Any,1}:\n",
       " [1, 5]"
      ]
     },
     "execution_count": 286,
     "metadata": {},
     "output_type": "execute_result"
    }
   ],
   "source": [
    "myqcs.noteb.Add_gate(T,\"H\",1)"
   ]
  },
  {
   "cell_type": "code",
   "execution_count": 287,
   "metadata": {},
   "outputs": [],
   "source": [
    "myqcs.noteb.Add_gate(T,[\"CN\",\"X\",\"H\",\"H\"],[[1,2],2,3,1])"
   ]
  },
  {
   "cell_type": "code",
   "execution_count": 288,
   "metadata": {
    "scrolled": true
   },
   "outputs": [
    {
     "data": {
      "text/plain": [
       "6-element Array{Any,1}:\n",
       " [1, 5]\n",
       " [5, 6]\n",
       " [2, 6]\n",
       " [6, 7]\n",
       " [3, 8]\n",
       " [6, 9]"
      ]
     },
     "execution_count": 288,
     "metadata": {},
     "output_type": "execute_result"
    }
   ],
   "source": [
    "T.edge"
   ]
  },
  {
   "cell_type": "code",
   "execution_count": 289,
   "metadata": {},
   "outputs": [
    {
     "name": "stdout",
     "output_type": "stream",
     "text": [
      "Any[2, 3, 4, 6]\n",
      "4\n",
      "[2, 6]\n",
      "4\n",
      "4\n"
     ]
    }
   ],
   "source": [
    "myqcs.noteb.Split(T)"
   ]
  },
  {
   "cell_type": "code",
   "execution_count": 290,
   "metadata": {},
   "outputs": [
    {
     "data": {
      "text/plain": [
       "7-element Array{Any,1}:\n",
       " [1, 5]\n",
       " [5, 6]\n",
       " [2, 10]\n",
       " [10, 7]\n",
       " [3, 8]\n",
       " [6, 9]\n",
       " [6, 10]"
      ]
     },
     "execution_count": 290,
     "metadata": {},
     "output_type": "execute_result"
    }
   ],
   "source": [
    "T.edge"
   ]
  },
  {
   "cell_type": "code",
   "execution_count": 244,
   "metadata": {},
   "outputs": [
    {
     "ename": "UndefVarError",
     "evalue": "UndefVarError: B not defined",
     "output_type": "error",
     "traceback": [
      "UndefVarError: B not defined",
      "",
      "Stacktrace:",
      " [1] Contract_Node(::Array{ITensor,1}, ::Array{Any,1}, ::Array{Any,1}) at /home/jrod/code/myqcs/src/tensor_fun.jl:143",
      " [2] Contract(::NamedTuple{(:qubit_N, :indexs, :init_state, :gates, :measure, :out, :edge, :record),Tuple{Int64,Array{Index,2},Array{Any,1},Array{Any,1},Array{Any,1},Array{Any,1},Array{Any,1},Array{Array{String,1},1}}}) at /home/jrod/code/myqcs/src/noteb.jl:261",
      " [3] top-level scope at In[244]:1"
     ]
    }
   ],
   "source": [
    "myqcs.noteb.Contract(T);"
   ]
  },
  {
   "cell_type": "code",
   "execution_count": 245,
   "metadata": {},
   "outputs": [
    {
     "ename": "BoundsError",
     "evalue": "BoundsError: attempt to access 0-element Array{Any,1} at index [1]",
     "output_type": "error",
     "traceback": [
      "BoundsError: attempt to access 0-element Array{Any,1} at index [1]",
      "",
      "Stacktrace:",
      " [1] getindex at ./array.jl:788 [inlined]",
      " [2] Wave_out(::NamedTuple{(:qubit_N, :indexs, :init_state, :gates, :measure, :out, :edge, :record),Tuple{Int64,Array{Index,2},Array{Any,1},Array{Any,1},Array{Any,1},Array{Any,1},Array{Any,1},Array{Array{String,1},1}}}, ::Int64) at /home/jrod/code/myqcs/src/noteb.jl:147",
      " [3] top-level scope at In[245]:1"
     ]
    }
   ],
   "source": [
    "myqcs.noteb.Wave_out(T,1)"
   ]
  },
  {
   "cell_type": "code",
   "execution_count": 138,
   "metadata": {},
   "outputs": [
    {
     "data": {
      "text/plain": [
       "3-element Array{Array{String,1},1}:\n",
       " [\"4\"]\n",
       " [\"-10+\", \" \"]\n",
       " [\"H\", \"1\"]"
      ]
     },
     "execution_count": 138,
     "metadata": {},
     "output_type": "execute_result"
    }
   ],
   "source": [
    "T.record"
   ]
  },
  {
   "cell_type": "code",
   "execution_count": 29,
   "metadata": {},
   "outputs": [
    {
     "data": {
      "text/plain": [
       "5-element Array{Any,1}:\n",
       " ITensor ord=2\n",
       "Dim 1: (dim=4|id=919)\n",
       "Dim 2: (dim=4|id=941)\n",
       "NDTensors.Dense{Complex{Float64},Array{Complex{Float64},1}}\n",
       " 4×4\n",
       " 0.5 + 0.0im   0.5 + 0.0im   0.5 + 0.0im   0.5 + 0.0im\n",
       " 0.5 + 0.0im  -0.5 + 0.0im   0.5 + 0.0im  -0.5 + 0.0im\n",
       " 0.5 + 0.0im   0.5 + 0.0im  -0.5 + 0.0im  -0.5 + 0.0im\n",
       " 0.5 + 0.0im  -0.5 + 0.0im  -0.5 + 0.0im   0.5 + 0.0im\n",
       " ITensor ord=3\n",
       "Dim 1: (dim=4|id=919)\n",
       "Dim 2: (dim=4|id=941)\n",
       "Dim 3: (dim=16|id=547|\"Link,v\")\n",
       "NDTensors.Dense{Complex{Float64},Array{Complex{Float64},1}}\n",
       " 4×4×16\n",
       "[:, :, 1] =\n",
       " 1.0 + 0.0im  0.0 + 0.0im  0.0 + 0.0im  0.0 + 0.0im\n",
       " 0.0 + 0.0im  0.0 + 0.0im  0.0 + 0.0im  0.0 + 0.0im\n",
       " 0.0 + 0.0im  0.0 + 0.0im  0.0 + 0.0im  0.0 + 0.0im\n",
       " 0.0 + 0.0im  0.0 + 0.0im  0.0 + 0.0im  0.0 + 0.0im\n",
       "\n",
       "[:, :, 2] =\n",
       " 0.0 + 0.0im  0.0 + 0.0im  0.0 + 0.0im  0.0 + 0.0im\n",
       " 1.0 + 0.0im  0.0 + 0.0im  0.0 + 0.0im  0.0 + 0.0im\n",
       " 0.0 + 0.0im  0.0 + 0.0im  0.0 + 0.0im  0.0 + 0.0im\n",
       " 0.0 + 0.0im  0.0 + 0.0im  0.0 + 0.0im  0.0 + 0.0im\n",
       "\n",
       "[:, :, 3] =\n",
       " 0.0 + 0.0im  0.0 + 0.0im  0.0 + 0.0im  0.0 + 0.0im\n",
       " 0.0 + 0.0im  0.0 + 0.0im  0.0 + 0.0im  0.0 + 0.0im\n",
       " 1.0 + 0.0im  0.0 + 0.0im  0.0 + 0.0im  0.0 + 0.0im\n",
       " 0.0 + 0.0im  0.0 + 0.0im  0.0 + 0.0im  0.0 + 0.0im\n",
       "\n",
       "...\n",
       "\n",
       "[:, :, 14] =\n",
       " 0.0 + 0.0im  0.0 + 0.0im  0.0 + 0.0im  0.0 + 0.0im\n",
       " 0.0 + 0.0im  0.0 + 0.0im  0.0 + 0.0im  1.0 + 0.0im\n",
       " 0.0 + 0.0im  0.0 + 0.0im  0.0 + 0.0im  0.0 + 0.0im\n",
       " 0.0 + 0.0im  0.0 + 0.0im  0.0 + 0.0im  0.0 + 0.0im\n",
       "\n",
       "[:, :, 15] =\n",
       " 0.0 + 0.0im  0.0 + 0.0im  0.0 + 0.0im  0.0 + 0.0im\n",
       " 0.0 + 0.0im  0.0 + 0.0im  0.0 + 0.0im  0.0 + 0.0im\n",
       " 0.0 + 0.0im  0.0 + 0.0im  0.0 + 0.0im  1.0 + 0.0im\n",
       " 0.0 + 0.0im  0.0 + 0.0im  0.0 + 0.0im  0.0 + 0.0im\n",
       "\n",
       "[:, :, 16] =\n",
       " 0.0 + 0.0im  0.0 + 0.0im  0.0 + 0.0im  0.0 + 0.0im\n",
       " 0.0 + 0.0im  0.0 + 0.0im  0.0 + 0.0im  0.0 + 0.0im\n",
       " 0.0 + 0.0im  0.0 + 0.0im  0.0 + 0.0im  0.0 + 0.0im\n",
       " 0.0 + 0.0im  0.0 + 0.0im  0.0 + 0.0im  1.0 + 0.0im\n",
       " ITensor ord=3\n",
       "Dim 1: (dim=4|id=987)\n",
       "Dim 2: (dim=4|id=455)\n",
       "Dim 3: (dim=16|id=547|\"Link,v\")\n",
       "NDTensors.Dense{Complex{Float64},Array{Complex{Float64},1}}\n",
       " 4×4×16\n",
       "[:, :, 1] =\n",
       " 1.0 - 0.0im  0.0 - 0.0im  0.0 - 0.0im  0.0 - 0.0im\n",
       " 0.0 - 0.0im  0.0 - 0.0im  0.0 - 0.0im  0.0 - 0.0im\n",
       " 0.0 - 0.0im  0.0 - 0.0im  0.0 - 0.0im  0.0 - 0.0im\n",
       " 0.0 - 0.0im  0.0 - 0.0im  0.0 - 0.0im  0.0 - 0.0im\n",
       "\n",
       "[:, :, 2] =\n",
       " -0.0 + 0.0im  -0.0 + 0.0im  -0.0 + 0.0im  -0.0 + 0.0im\n",
       " -0.0 + 0.0im   1.0 + 0.0im  -0.0 + 0.0im  -0.0 + 0.0im\n",
       " -0.0 + 0.0im  -0.0 + 0.0im  -0.0 + 0.0im  -0.0 + 0.0im\n",
       " -0.0 + 0.0im  -0.0 + 0.0im  -0.0 + 0.0im  -0.0 + 0.0im\n",
       "\n",
       "[:, :, 3] =\n",
       " -0.0 + 0.0im  -0.0 + 0.0im  -0.0 + 0.0im  -0.0 + 0.0im\n",
       " -0.0 + 0.0im  -0.0 + 0.0im  -0.0 + 0.0im  -0.0 + 0.0im\n",
       " -0.0 + 0.0im  -0.0 + 0.0im   1.0 + 0.0im  -0.0 + 0.0im\n",
       " -0.0 + 0.0im  -0.0 + 0.0im  -0.0 + 0.0im  -0.0 + 0.0im\n",
       "\n",
       "...\n",
       "\n",
       "[:, :, 14] =\n",
       " -0.0 + 0.0im  -0.0 + 0.0im  -0.0 + 0.0im  -0.0 + 0.0im\n",
       " -0.0 + 0.0im  -0.0 + 0.0im   1.0 + 0.0im  -0.0 + 0.0im\n",
       " -0.0 + 0.0im  -0.0 + 0.0im  -0.0 + 0.0im  -0.0 + 0.0im\n",
       " -0.0 + 0.0im  -0.0 + 0.0im  -0.0 + 0.0im  -0.0 + 0.0im\n",
       "\n",
       "[:, :, 15] =\n",
       " -0.0 + 0.0im  -0.0 + 0.0im  -0.0 + 0.0im  -0.0 + 0.0im\n",
       " -0.0 + 0.0im  -0.0 + 0.0im  -0.0 + 0.0im  -0.0 + 0.0im\n",
       " -0.0 + 0.0im   1.0 + 0.0im  -0.0 + 0.0im  -0.0 + 0.0im\n",
       " -0.0 + 0.0im  -0.0 + 0.0im  -0.0 + 0.0im  -0.0 + 0.0im\n",
       "\n",
       "[:, :, 16] =\n",
       " -0.0 + 0.0im  -0.0 + 0.0im  -0.0 + 0.0im  -0.0 + 0.0im\n",
       " -0.0 + 0.0im  -0.0 + 0.0im  -0.0 + 0.0im  -0.0 + 0.0im\n",
       " -0.0 + 0.0im  -0.0 + 0.0im  -0.0 + 0.0im  -0.0 + 0.0im\n",
       "  1.0 + 0.0im  -0.0 + 0.0im  -0.0 + 0.0im  -0.0 + 0.0im\n",
       " ITensor ord=2\n",
       "Dim 1: (dim=4|id=987)\n",
       "Dim 2: (dim=4|id=455)\n",
       "NDTensors.Dense{Complex{Float64},Array{Complex{Float64},1}}\n",
       " 4×4\n",
       " 0.0 + 0.0im  0.0 + 0.0im  0.0 + 0.0im  1.0 + 0.0im\n",
       " 0.0 + 0.0im  0.0 + 0.0im  1.0 + 0.0im  0.0 + 0.0im\n",
       " 0.0 + 0.0im  1.0 + 0.0im  0.0 + 0.0im  0.0 + 0.0im\n",
       " 1.0 + 0.0im  0.0 + 0.0im  0.0 + 0.0im  0.0 + 0.0im\n",
       " ITensor ord=2\n",
       "Dim 1: (dim=4|id=818)\n",
       "Dim 2: (dim=4|id=131)\n",
       "NDTensors.Dense{Complex{Float64},Array{Complex{Float64},1}}\n",
       " 4×4\n",
       " 0.5 + 0.0im   0.5 + 0.0im   0.5 + 0.0im   0.5 + 0.0im\n",
       " 0.5 + 0.0im  -0.5 + 0.0im   0.5 + 0.0im  -0.5 + 0.0im\n",
       " 0.5 + 0.0im   0.5 + 0.0im  -0.5 + 0.0im  -0.5 + 0.0im\n",
       " 0.5 + 0.0im  -0.5 + 0.0im  -0.5 + 0.0im   0.5 + 0.0im"
      ]
     },
     "execution_count": 29,
     "metadata": {},
     "output_type": "execute_result"
    }
   ],
   "source": [
    "T.gates"
   ]
  }
 ],
 "metadata": {
  "kernelspec": {
   "display_name": "Julia 1.4.2",
   "language": "julia",
   "name": "julia-1.4"
  },
  "language_info": {
   "file_extension": ".jl",
   "mimetype": "application/julia",
   "name": "julia",
   "version": "1.4.2"
  }
 },
 "nbformat": 4,
 "nbformat_minor": 4
}
