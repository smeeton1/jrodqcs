{
 "cells": [
  {
   "cell_type": "code",
   "execution_count": 1,
   "metadata": {},
   "outputs": [],
   "source": [
    "include(\"../src/myqcs.jl\");"
   ]
  },
  {
   "cell_type": "code",
   "execution_count": 157,
   "metadata": {},
   "outputs": [],
   "source": [
    "T=myqcs.noteb.qc_network(3,\"Wave\",true); "
   ]
  },
  {
   "cell_type": "code",
   "execution_count": 158,
   "metadata": {},
   "outputs": [],
   "source": [
    "myqcs.noteb.Set_init(T,\"000\");"
   ]
  },
  {
   "cell_type": "code",
   "execution_count": 159,
   "metadata": {},
   "outputs": [],
   "source": [
    "myqcs.noteb.Set_cinit(T,\"000\");"
   ]
  },
  {
   "cell_type": "code",
   "execution_count": 160,
   "metadata": {},
   "outputs": [],
   "source": [
    "myqcs.noteb.Add_gate(T,[\"CN\",\"H\",\"CN\"],[[1,2],2,[1,2]]);"
   ]
  },
  {
   "cell_type": "code",
   "execution_count": 118,
   "metadata": {},
   "outputs": [],
   "source": [
    "myqcs.noteb.Add_gate(T,[\"H\",\"CN\",\"H\",\"CN\",\"m\",\"m\",\"CN\"],[1,[1,2],2,[2,3],[1,1],[3,3],[2,3]]);"
   ]
  },
  {
   "cell_type": "code",
   "execution_count": null,
   "metadata": {},
   "outputs": [],
   "source": [
    "T.measure[7]=1;"
   ]
  },
  {
   "cell_type": "code",
   "execution_count": null,
   "metadata": {},
   "outputs": [],
   "source": [
    "myqcs.noteb.Add_gate(T,\"m\",[1,1]);"
   ]
  },
  {
   "cell_type": "code",
   "execution_count": null,
   "metadata": {},
   "outputs": [],
   "source": [
    "myqcs.noteb.Add_gate(T,\"H\",1)"
   ]
  },
  {
   "cell_type": "code",
   "execution_count": 162,
   "metadata": {},
   "outputs": [
    {
     "name": "stdout",
     "output_type": "stream",
     "text": [
      "Node\n"
     ]
    }
   ],
   "source": [
    "myqcs.noteb.Split(T) "
   ]
  },
  {
   "cell_type": "code",
   "execution_count": 120,
   "metadata": {
    "scrolled": true
   },
   "outputs": [
    {
     "name": "stdout",
     "output_type": "stream",
     "text": [
      "Node\n",
      "Depth=1\n",
      "N=Any[1, 2, 3]\n",
      "Edge List Length=13\n",
      "Gate List Length=3\n",
      "Edge List=Any[[1, 4], [4, 5], [2, 11], [11, 6], [6, 7], [3, 12], [5, 8], [7, 9], [9, 10], [12, 13], [5, 11], [7, 12], [10, 13]]\n",
      "a=Any[Any[1], Any[3], Any[6]]\n",
      "Any[[1, 1, 4], [2, 1, 11], [3, 1, 12]]\n",
      "Depth=2\n",
      "N=Any[4, 2, 3]\n",
      "Edge List Length=12\n",
      "Gate List Length=3\n",
      "Edge List=Any[[4, 5], [2, 11], [11, 6], [6, 7], [3, 12], [5, 8], [7, 9], [9, 10], [12, 13], [5, 11], [7, 12], [10, 13]]\n",
      "a=Any[Any[1], Any[2], Any[5]]\n",
      "Any[[1, 1, 5], [2, 1, 11], [3, 1, 12]]\n",
      "Depth=3\n",
      "N=Any[Any[5, 11], 3]\n",
      "Edge List Length=9\n",
      "Gate List Length=2\n",
      "Edge List=Any[[11, 6], [6, 7], [3, 12], [5, 8], [7, 9], [9, 10], [12, 13], [7, 12], [10, 13]]\n",
      "a=Any[Any[4], Any[1], Any[3]]\n",
      "Any[[1, 1, 8], [2, 1, 6], [3, 1, 12]]\n",
      "Depth=4\n",
      "N=Any[Any[8, 6], 3]\n",
      "Edge List Length=7\n",
      "Gate List Length=2\n",
      "Edge List=Any[[6, 7], [3, 12], [7, 9], [9, 10], [12, 13], [7, 12], [10, 13]]\n",
      "a=Any[Any[], Any[1], Any[2]]\n",
      "Any[[2, 1, 7], [3, 1, 12]]\n",
      "Depth=5\n",
      "N=Any[Any[8, 7, 12]]\n",
      "Edge List Length=4\n",
      "Gate List Length=1\n",
      "Edge List=Any[[7, 9], [9, 10], [12, 13], [10, 13]]\n",
      "a=Any[Any[], Any[1], Any[3]]\n",
      "Any[[2, 1, 9], [3, 1, 13]]\n",
      "Depth=6\n",
      "N=Any[Any[8, 9, 12]]\n",
      "Edge List Length=3\n",
      "Gate List Length=1\n",
      "Edge List=Any[[9, 10], [12, 13], [10, 13]]\n",
      "a=Any[Any[], Any[1], Any[2]]\n",
      "Any[[2, 1, 10], [3, 1, 13]]\n"
     ]
    },
    {
     "data": {
      "text/plain": [
       "1-element Array{Any,1}:\n",
       " ITensor ord=3\n",
       "Dim 1: (dim=2|id=402)\n",
       "Dim 2: (dim=2|id=788)\n",
       "Dim 3: (dim=2|id=118)\n",
       "NDTensors.Dense{Complex{Float64},Array{Complex{Float64},1}}\n",
       " 2×2×2\n",
       "[:, :, 1] =\n",
       "    0.4999999999999994 + 0.0im  6.73463193876748e-18 + 0.0im\n",
       " -6.73463193876748e-18 + 0.0im   -0.4999999999999994 + 0.0im\n",
       "\n",
       "[:, :, 2] =\n",
       " -6.734631938767483e-18 + 0.0im      0.4999999999999995 + 0.0im\n",
       "     0.4999999999999995 + 0.0im  -6.734631938767483e-18 + 0.0im"
      ]
     },
     "execution_count": 120,
     "metadata": {},
     "output_type": "execute_result"
    }
   ],
   "source": [
    "myqcs.noteb.Contract(T)"
   ]
  },
  {
   "cell_type": "code",
   "execution_count": 12,
   "metadata": {},
   "outputs": [
    {
     "data": {
      "text/plain": [
       "3-element Array{Any,1}:\n",
       " ITensor ord=2\n",
       "Dim 1: (dim=2|id=486)\n",
       "Dim 2: (dim=2|id=182)\n",
       "NDTensors.Dense{Complex{Float64},Array{Complex{Float64},1}}\n",
       " 2×2\n",
       " 0.7071067811865475 + 0.0im   0.7071067811865475 + 0.0im\n",
       " 0.7071067811865475 + 0.0im  -0.7071067811865475 + 0.0im\n",
       " ITensor ord=2\n",
       "Dim 1: (dim=2|id=456)\n",
       "Dim 2: (dim=2|id=301)\n",
       "NDTensors.Dense{Complex{Float64},Array{Complex{Float64},1}}\n",
       " 2×2\n",
       " 0.0 + 0.0im  0.0 + 0.0im\n",
       " 0.0 + 0.0im  0.0 + 0.0im\n",
       " ITensor ord=4\n",
       "Dim 1: (dim=2|id=486)\n",
       "Dim 2: (dim=2|id=182)\n",
       "Dim 3: (dim=2|id=456)\n",
       "Dim 4: (dim=2|id=301)\n",
       "NDTensors.Dense{Complex{Float64},Array{Complex{Float64},1}}\n",
       " 2×2×2×2\n",
       "[:, :, 1, 1] =\n",
       " 1.0 + 0.0im  0.0 + 0.0im\n",
       " 0.0 + 0.0im  0.0 + 0.0im\n",
       "\n",
       "[:, :, 2, 1] =\n",
       " 0.0 + 0.0im  0.0 + 0.0im\n",
       " 0.0 + 0.0im  1.0 + 0.0im\n",
       "\n",
       "[:, :, 1, 2] =\n",
       " 0.0 + 0.0im  0.0 + 0.0im\n",
       " 0.0 + 0.0im  1.0 + 0.0im\n",
       "\n",
       "[:, :, 2, 2] =\n",
       " 1.0 + 0.0im  0.0 + 0.0im\n",
       " 0.0 + 0.0im  0.0 + 0.0im"
      ]
     },
     "execution_count": 12,
     "metadata": {},
     "output_type": "execute_result"
    }
   ],
   "source": [
    "T.gates"
   ]
  },
  {
   "cell_type": "code",
   "execution_count": 163,
   "metadata": {},
   "outputs": [
    {
     "data": {
      "text/plain": [
       "7-element Array{Any,1}:\n",
       " [1, 4]\n",
       " [2, 7]\n",
       " [7, 5]\n",
       " [7, 6]\n",
       " [5, 8]\n",
       " [4, 7]\n",
       " [6, 8]"
      ]
     },
     "execution_count": 163,
     "metadata": {},
     "output_type": "execute_result"
    }
   ],
   "source": [
    "T.edge"
   ]
  },
  {
   "cell_type": "code",
   "execution_count": null,
   "metadata": {},
   "outputs": [],
   "source": [
    "T.measure"
   ]
  },
  {
   "cell_type": "code",
   "execution_count": null,
   "metadata": {},
   "outputs": [],
   "source": [
    "T.cbits"
   ]
  },
  {
   "cell_type": "code",
   "execution_count": null,
   "metadata": {},
   "outputs": [],
   "source": []
  }
 ],
 "metadata": {
  "kernelspec": {
   "display_name": "Julia 1.4.2",
   "language": "julia",
   "name": "julia-1.4"
  },
  "language_info": {
   "file_extension": ".jl",
   "mimetype": "application/julia",
   "name": "julia",
   "version": "1.4.2"
  }
 },
 "nbformat": 4,
 "nbformat_minor": 4
}
