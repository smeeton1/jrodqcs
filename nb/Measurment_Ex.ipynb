{
 "cells": [
  {
   "cell_type": "markdown",
   "metadata": {},
   "source": [
    "This notebook shows an example for the use of classical bits and measuremnets in a curcuit."
   ]
  },
  {
   "cell_type": "code",
   "execution_count": null,
   "metadata": {},
   "outputs": [],
   "source": [
    "include(\"../src/myqcs.jl\");"
   ]
  },
  {
   "cell_type": "code",
   "execution_count": null,
   "metadata": {},
   "outputs": [],
   "source": [
    "T=myqcs.noteb.qc_network(3);   # Setting up the curcuit."
   ]
  },
  {
   "cell_type": "code",
   "execution_count": null,
   "metadata": {},
   "outputs": [],
   "source": [
    "myqcs.noteb.Set_init(T,\"000\"); # Set the initial conditions for the qubits."
   ]
  },
  {
   "cell_type": "markdown",
   "metadata": {},
   "source": [
    "The inital state of the qubit is set at a string in the same way as qubits."
   ]
  },
  {
   "cell_type": "code",
   "execution_count": null,
   "metadata": {},
   "outputs": [],
   "source": [
    "myqcs.noteb.Set_cinit(T,\"000\");# Set the initial vsalues for classical bits. "
   ]
  },
  {
   "cell_type": "code",
   "execution_count": null,
   "metadata": {},
   "outputs": [],
   "source": [
    "myqcs.noteb.Add_gate(T,\"H\",1);"
   ]
  },
  {
   "cell_type": "markdown",
   "metadata": {},
   "source": [
    "To add a measurement to the curict the Add_gate function is used. \"m\" is the measurment gate which is put in as an empty tensor. This tensor will not be contracted into the circuit. The measurment takes the qubit to be measured and the cbit to store the result in.   "
   ]
  },
  {
   "cell_type": "code",
   "execution_count": null,
   "metadata": {},
   "outputs": [],
   "source": [
    "myqcs.noteb.Add_gate(T,\"m\",[1,1]); # example of a single measurement being added."
   ]
  },
  {
   "cell_type": "markdown",
   "metadata": {},
   "source": [
    "The measurements can be added in a group with other gates in the same way as any other gate."
   ]
  },
  {
   "cell_type": "code",
   "execution_count": null,
   "metadata": {},
   "outputs": [],
   "source": [
    "myqcs.noteb.Add_gate(T,[\"H\",\"CN\",\"H\",\"CN\",\"m\",\"m\",\"CN\"],[1,[1,2],2,[2,3],[1,1],[2,2],[2,3]]);"
   ]
  },
  {
   "cell_type": "markdown",
   "metadata": {},
   "source": [
    "To get a gate to depend on a cbit, the measure field in the network needs to be modified. This needs to be done in the notebook even if the circuit is loaded from file. To set the gate the filed in measure corrisponding to the gate(same poition as it is added to the circuit and same position as it has in the gates field). The value for the gate needs to be changed from -1 to the cbit number. This is best done befor any split as the value in measure will be copyed to the components of split gate."
   ]
  },
  {
   "cell_type": "code",
   "execution_count": null,
   "metadata": {},
   "outputs": [],
   "source": [
    "T.measure[7]=1; # gate 7 deppends on cbit 1"
   ]
  },
  {
   "cell_type": "code",
   "execution_count": null,
   "metadata": {},
   "outputs": [],
   "source": [
    "myqcs.noteb.Split(T);"
   ]
  },
  {
   "cell_type": "code",
   "execution_count": null,
   "metadata": {
    "scrolled": true
   },
   "outputs": [],
   "source": [
    "myqcs.noteb.Contract(T);"
   ]
  },
  {
   "cell_type": "code",
   "execution_count": null,
   "metadata": {},
   "outputs": [],
   "source": [
    "T.cbits"
   ]
  },
  {
   "cell_type": "code",
   "execution_count": null,
   "metadata": {},
   "outputs": [],
   "source": []
  }
 ],
 "metadata": {
  "kernelspec": {
   "display_name": "Julia 1.4.2",
   "language": "julia",
   "name": "julia-1.4"
  },
  "language_info": {
   "file_extension": ".jl",
   "mimetype": "application/julia",
   "name": "julia",
   "version": "1.4.2"
  }
 },
 "nbformat": 4,
 "nbformat_minor": 4
}
