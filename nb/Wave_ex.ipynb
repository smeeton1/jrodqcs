{
 "cells": [
  {
   "cell_type": "markdown",
   "metadata": {},
   "source": [
    "This example show a simple circuit done using both density matices and wavefunctions."
   ]
  },
  {
   "cell_type": "code",
   "execution_count": null,
   "metadata": {},
   "outputs": [],
   "source": [
    "include(\"../src/myqcs.jl\")"
   ]
  },
  {
   "cell_type": "markdown",
   "metadata": {},
   "source": [
    "Following is the circuit done with density matrices."
   ]
  },
  {
   "cell_type": "code",
   "execution_count": null,
   "metadata": {},
   "outputs": [],
   "source": [
    "T=myqcs.noteb.qc_network(3,\"Density\");\n",
    "myqcs.noteb.Set_init(T,\"111\");\n",
    "myqcs.noteb.Add_gate(T,[\"H\",\"CN\",\"CN\"],[1,[1,2],[2,3]])\n",
    "myqcs.noteb.Split(T)\n",
    "myqcs.noteb.Contract(T)\n",
    "myqcs.noteb.Density_out(T,1)"
   ]
  },
  {
   "cell_type": "markdown",
   "metadata": {},
   "source": [
    "Following is the circuit done with wavefunctions."
   ]
  },
  {
   "cell_type": "code",
   "execution_count": null,
   "metadata": {
    "scrolled": true
   },
   "outputs": [],
   "source": [
    "TW=myqcs.noteb.qc_network(3);\n",
    "myqcs.noteb.Set_init(TW,\"111\");\n",
    "myqcs.noteb.Add_gate(TW,[\"H\",\"CN\",\"CN\"],[1,[1,2],[2,3]]);\n",
    "myqcs.noteb.Split(TW);\n",
    "myqcs.noteb.Contract(TW);\n",
    "myqcs.noteb.Wave_out(TW,1)"
   ]
  },
  {
   "cell_type": "code",
   "execution_count": null,
   "metadata": {},
   "outputs": [],
   "source": []
  }
 ],
 "metadata": {
  "kernelspec": {
   "display_name": "Julia 1.4.2",
   "language": "julia",
   "name": "julia-1.4"
  },
  "language_info": {
   "file_extension": ".jl",
   "mimetype": "application/julia",
   "name": "julia",
   "version": "1.4.2"
  }
 },
 "nbformat": 4,
 "nbformat_minor": 4
}
