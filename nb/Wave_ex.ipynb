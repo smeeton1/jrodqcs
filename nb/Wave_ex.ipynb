{
 "cells": [
  {
   "cell_type": "markdown",
   "metadata": {},
   "source": [
    "This example show a simple circuit done using both density matices and wavefunctions."
   ]
  },
  {
   "cell_type": "code",
   "execution_count": 9,
   "metadata": {},
   "outputs": [
    {
     "name": "stderr",
     "output_type": "stream",
     "text": [
      "WARNING: replacing module myqcs.\n"
     ]
    },
    {
     "data": {
      "text/plain": [
       "Main.myqcs"
      ]
     },
     "execution_count": 9,
     "metadata": {},
     "output_type": "execute_result"
    }
   ],
   "source": [
    "include(\"../src/myqcs.jl\")"
   ]
  },
  {
   "cell_type": "markdown",
   "metadata": {},
   "source": [
    "Following is the circuit done with density matrices."
   ]
  },
  {
   "cell_type": "code",
   "execution_count": 6,
   "metadata": {},
   "outputs": [
    {
     "name": "stdout",
     "output_type": "stream",
     "text": [
      "Complex{Float64}[0.5 + 0.0im, 0.0 + 0.0im, 0.0 + 0.0im, 0.0 + 0.0im, 0.0 + 0.0im, 0.0 + 0.0im, 0.0 + 0.0im, 0.5 + 0.0im]\n",
      "Complex{Float64}[0.0 + 0.0im, 0.0 + 0.0im, 0.0 + 0.0im, 0.0 + 0.0im, 0.0 + 0.0im, 0.0 + 0.0im, 0.0 + 0.0im, 0.0 + 0.0im]\n",
      "Complex{Float64}[0.0 + 0.0im, 0.0 + 0.0im, 0.0 + 0.0im, 0.0 + 0.0im, 0.0 + 0.0im, 0.0 + 0.0im, 0.0 + 0.0im, 0.0 + 0.0im]\n",
      "Complex{Float64}[0.0 + 0.0im, 0.0 + 0.0im, 0.0 + 0.0im, 0.0 + 0.0im, 0.0 + 0.0im, 0.0 + 0.0im, 0.0 + 0.0im, 0.0 + 0.0im]\n",
      "Complex{Float64}[0.0 + 0.0im, 0.0 + 0.0im, 0.0 + 0.0im, 0.0 + 0.0im, 0.0 + 0.0im, 0.0 + 0.0im, 0.0 + 0.0im, 0.0 + 0.0im]\n",
      "Complex{Float64}[0.0 + 0.0im, 0.0 + 0.0im, 0.0 + 0.0im, 0.0 + 0.0im, 0.0 + 0.0im, 0.0 + 0.0im, 0.0 + 0.0im, 0.0 + 0.0im]\n",
      "Complex{Float64}[0.0 + 0.0im, 0.0 + 0.0im, 0.0 + 0.0im, 0.0 + 0.0im, 0.0 + 0.0im, 0.0 + 0.0im, 0.0 + 0.0im, 0.0 + 0.0im]\n",
      "Complex{Float64}[0.5 + 0.0im, 0.0 + 0.0im, 0.0 + 0.0im, 0.0 + 0.0im, 0.0 + 0.0im, 0.0 + 0.0im, 0.0 + 0.0im, 0.5 + 0.0im]\n"
     ]
    }
   ],
   "source": [
    "T=myqcs.noteb.qc_network(3,\"Density\");\n",
    "myqcs.noteb.Set_init(T,\"000\");\n",
    "myqcs.noteb.Add_gate(T,[\"H\",\"CN\",\"CN\"],[1,[1,2],[2,3]])\n",
    "myqcs.noteb.Split(T)\n",
    "myqcs.noteb.Contract(T)\n",
    "myqcs.noteb.Density_out(T,1)"
   ]
  },
  {
   "cell_type": "markdown",
   "metadata": {},
   "source": [
    "Following is the circuit done with wavefunctions."
   ]
  },
  {
   "cell_type": "code",
   "execution_count": 10,
   "metadata": {
    "scrolled": true
   },
   "outputs": [
    {
     "name": "stdout",
     "output_type": "stream",
     "text": [
      "0.707106781186547 + 0.0im\n",
      "0.0 + 0.0im\n",
      "0.0 + 0.0im\n",
      "0.0 + 0.0im\n",
      "0.0 + 0.0im\n",
      "0.0 + 0.0im\n",
      "0.0 + 0.0im\n",
      "0.707106781186547 + 0.0im\n"
     ]
    }
   ],
   "source": [
    "TW=myqcs.noteb.qc_network(3);\n",
    "myqcs.noteb.Set_init(TW,\"000\");\n",
    "myqcs.noteb.Add_gate(TW,[\"H\",\"CN\",\"CN\"],[1,[1,2],[2,3]]);\n",
    "myqcs.noteb.Split(TW);\n",
    "myqcs.noteb.Contract(TW);\n",
    "myqcs.noteb.Wave_out(TW,1)"
   ]
  },
  {
   "cell_type": "code",
   "execution_count": null,
   "metadata": {},
   "outputs": [],
   "source": [
    "myqcs.noteb.Wave_out(TW)"
   ]
  },
  {
   "cell_type": "code",
   "execution_count": null,
   "metadata": {},
   "outputs": [],
   "source": []
  }
 ],
 "metadata": {
  "kernelspec": {
   "display_name": "Julia 1.4.2",
   "language": "julia",
   "name": "julia-1.4"
  },
  "language_info": {
   "file_extension": ".jl",
   "mimetype": "application/julia",
   "name": "julia",
   "version": "1.4.2"
  }
 },
 "nbformat": 4,
 "nbformat_minor": 4
}
