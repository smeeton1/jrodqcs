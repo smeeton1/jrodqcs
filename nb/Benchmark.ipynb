{
 "cells": [
  {
   "cell_type": "code",
   "execution_count": null,
   "id": "f4a8ff39",
   "metadata": {
    "scrolled": false
   },
   "outputs": [],
   "source": [
    "include(\"../src/myqcs.jl\");\n",
    "using BenchmarkTools;\n",
    "using Plots;"
   ]
  },
  {
   "cell_type": "code",
   "execution_count": null,
   "id": "8134b08b",
   "metadata": {},
   "outputs": [],
   "source": [
    "t=[];\n",
    "push!(t,[5,10,15,20,25,30],[])\n",
    "T=myqcs.noteb.qc_network(10,\"Wave\",false);\n",
    "myqcs.proform.Random_Circuit(T,5);\n",
    "th=@elapsed myqcs.tensor_fun.simple_solver(T); \n",
    "push!(t[2],th);\n",
    "T=myqcs.noteb.qc_network(10,\"Wave\",false);\n",
    "myqcs.proform.Random_Circuit(T,10);\n",
    "th=@elapsed myqcs.tensor_fun.simple_solver(T); \n",
    "push!(t[2],th);\n",
    "T=myqcs.noteb.qc_network(10,\"Wave\",false);\n",
    "myqcs.proform.Random_Circuit(T,15);\n",
    "th=@elapsed myqcs.tensor_fun.simple_solver(T); \n",
    "push!(t[2],th);\n",
    "T=myqcs.noteb.qc_network(10,\"Wave\",false);\n",
    "myqcs.proform.Random_Circuit(T,20);\n",
    "th=@elapsed myqcs.tensor_fun.simple_solver(T); \n",
    "push!(t[2],th);\n",
    "T=myqcs.noteb.qc_network(10,\"Wave\",false);\n",
    "myqcs.proform.Random_Circuit(T,25);\n",
    "th=@elapsed myqcs.tensor_fun.simple_solver(T); \n",
    "push!(t[2],th);\n",
    "T=myqcs.noteb.qc_network(10,\"Wave\",false);\n",
    "myqcs.proform.Random_Circuit(T,30);\n",
    "th=@elapsed myqcs.tensor_fun.simple_solver(T); \n",
    "push!(t[2],th);"
   ]
  },
  {
   "cell_type": "code",
   "execution_count": null,
   "id": "32bcaddf",
   "metadata": {},
   "outputs": [],
   "source": [
    "#scatter(t)\n",
    "a = plot(t[1],t[2], fmt = :png,legend=false)\n"
   ]
  },
  {
   "cell_type": "code",
   "execution_count": null,
   "id": "8c44e78f",
   "metadata": {},
   "outputs": [],
   "source": [
    "t2=[];\n",
    "push!(t2,[5,10,15,20,25,30],[])\n",
    "T=myqcs.noteb.qc_network(10,\"Wave\",false,\"line\");\n",
    "myqcs.proform.Random_Circuit(T,5);\n",
    "myqcs.noteb.Split(T)\n",
    "th=@elapsed myqcs.noteb.Contract(T); \n",
    "push!(t2[2],th);\n",
    "T=myqcs.noteb.qc_network(10,\"Wave\",false,\"line\");\n",
    "myqcs.proform.Random_Circuit(T,10);\n",
    "myqcs.noteb.Split(T)\n",
    "th=@elapsed myqcs.noteb.Contract(T); \n",
    "push!(t2[2],th);\n",
    "T=myqcs.noteb.qc_network(10,\"Wave\",false,\"line\");\n",
    "myqcs.proform.Random_Circuit(T,15);\n",
    "myqcs.noteb.Split(T)\n",
    "th=@elapsed myqcs.noteb.Contract(T); \n",
    "push!(t2[2],th);\n",
    "T=myqcs.noteb.qc_network(10,\"Wave\",false,\"line\");\n",
    "myqcs.proform.Random_Circuit(T,20);\n",
    "myqcs.noteb.Split(T)\n",
    "th=@elapsed myqcs.noteb.Contract(T); \n",
    "push!(t2[2],th);\n",
    "T=myqcs.noteb.qc_network(10,\"Wave\",false,\"line\");\n",
    "myqcs.proform.Random_Circuit(T,25);\n",
    "myqcs.noteb.Split(T)\n",
    "th=@elapsed myqcs.noteb.Contract(T); \n",
    "push!(t2[2],th);\n",
    "T=myqcs.noteb.qc_network(10,\"Wave\",false,\"line\");\n",
    "myqcs.proform.Random_Circuit(T,30);\n",
    "myqcs.noteb.Split(T)\n",
    "th=@elapsed myqcs.noteb.Contract(T); \n",
    "push!(t2[2],th);"
   ]
  },
  {
   "cell_type": "code",
   "execution_count": null,
   "id": "f20fec7e",
   "metadata": {
    "scrolled": true
   },
   "outputs": [],
   "source": [
    "a = plot(t2[1],t2[2], fmt = :png,legend=false)\n"
   ]
  },
  {
   "cell_type": "code",
   "execution_count": null,
   "id": "cf26be46",
   "metadata": {},
   "outputs": [],
   "source": [
    "t3=[];\n",
    "push!(t3,[5,10,15,20,25,30],[])\n",
    "T=myqcs.noteb.qc_network(10,\"Wave\",false);\n",
    "myqcs.proform.Random_Circuit(T,5);\n",
    "myqcs.noteb.Split(T)\n",
    "th=@elapsed myqcs.noteb.Contract(T);\n",
    "push!(t3[2],th);\n",
    "T=myqcs.noteb.qc_network(10,\"Wave\",false);\n",
    "myqcs.proform.Random_Circuit(T,10);\n",
    "myqcs.noteb.Split(T)\n",
    "th=@elapsed myqcs.noteb.Contract(T); \n",
    "push!(t3[2],th);\n",
    "T=myqcs.noteb.qc_network(10,\"Wave\",false);\n",
    "myqcs.proform.Random_Circuit(T,15);\n",
    "myqcs.noteb.Split(T)\n",
    "th=@elapsed myqcs.noteb.Contract(T); \n",
    "push!(t3[2],th);\n",
    "T=myqcs.noteb.qc_network(10,\"Wave\",false);\n",
    "myqcs.proform.Random_Circuit(T,20);\n",
    "myqcs.noteb.Split(T)\n",
    "th=@elapsed myqcs.noteb.Contract(T); \n",
    "push!(t3[2],th);\n",
    "T=myqcs.noteb.qc_network(10,\"Wave\",false);\n",
    "myqcs.proform.Random_Circuit(T,25);\n",
    "myqcs.noteb.Split(T)\n",
    "th=@elapsed myqcs.noteb.Contract(T); \n",
    "push!(t3[2],th);\n",
    "T=myqcs.noteb.qc_network(10,\"Wave\",false);\n",
    "myqcs.proform.Random_Circuit(T,30);\n",
    "myqcs.noteb.Split(T)\n",
    "th=@elapsed myqcs.noteb.Contract(T); \n",
    "push!(t3[2],th);"
   ]
  },
  {
   "cell_type": "code",
   "execution_count": null,
   "id": "ae86a0d8",
   "metadata": {},
   "outputs": [],
   "source": [
    "a =plot(t3[1],t3[2], fmt = :png,legend=false)"
   ]
  },
  {
   "cell_type": "code",
   "execution_count": null,
   "id": "c9f49d84",
   "metadata": {},
   "outputs": [],
   "source": []
  }
 ],
 "metadata": {
  "kernelspec": {
   "display_name": "Julia 1.4.2",
   "language": "julia",
   "name": "julia-1.4"
  },
  "language_info": {
   "file_extension": ".jl",
   "mimetype": "application/julia",
   "name": "julia",
   "version": "1.4.2"
  }
 },
 "nbformat": 4,
 "nbformat_minor": 5
}
